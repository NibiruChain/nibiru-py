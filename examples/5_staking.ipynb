{
 "cells": [
  {
   "cell_type": "markdown",
   "source": [
    "# Nibiru Staking Queries and Transactions\n",
    "Examples of querying validators, delegating and unbonding."
   ],
   "metadata": {
    "collapsed": false
   }
  },
  {
   "cell_type": "markdown",
   "source": [
    "### 1. Install Nibiru package"
   ],
   "metadata": {
    "collapsed": false
   }
  },
  {
   "cell_type": "code",
   "execution_count": null,
   "outputs": [],
   "source": [
    "!pip install nibiru"
   ],
   "metadata": {
    "collapsed": false
   }
  },
  {
   "cell_type": "markdown",
   "source": [
    "### 2. Create chain client and run queries\n",
    "Using testnet-3 (aka itn-3) endpoint run queries."
   ],
   "metadata": {
    "collapsed": false
   }
  },
  {
   "cell_type": "code",
   "execution_count": null,
   "outputs": [],
   "source": [
    "import json\n",
    "from nibiru import Network, ChainClient, Msg, Coin, TxConfig\n",
    "\n",
    "client = ChainClient(network=Network.testnet(3))"
   ],
   "metadata": {
    "collapsed": false
   }
  },
  {
   "cell_type": "code",
   "execution_count": null,
   "outputs": [],
   "source": [
    "# Shortcut to print responses\n",
    "def print_json(obj):\n",
    "    print(json.dumps(obj, indent=2))"
   ],
   "metadata": {
    "collapsed": false
   }
  },
  {
   "cell_type": "code",
   "execution_count": null,
   "outputs": [],
   "source": [
    "# Query validators\n",
    "validators = client.query.staking.validators()[\"validators\"]\n",
    "print_json(validators)\n",
    "\n",
    "first_validator = validators[0]"
   ],
   "metadata": {
    "collapsed": false
   }
  },
  {
   "cell_type": "code",
   "execution_count": null,
   "outputs": [],
   "source": [
    "# Query delegations to the first validator\n",
    "delegations = client.query.staking.delegations_to(first_validator[\"operator_address\"])[\"delegation_responses\"]\n",
    "print_json(delegations)"
   ],
   "metadata": {
    "collapsed": false
   }
  },
  {
   "cell_type": "markdown",
   "source": [
    "### 3. Authenticate to run transactions\n",
    "Assuming you have your wallet mnemonic key (or private key) and some test tokens from the faucet.\n",
    "See: https://app.nibiru.fi/faucet"
   ],
   "metadata": {
    "collapsed": false
   }
  },
  {
   "cell_type": "code",
   "execution_count": null,
   "outputs": [],
   "source": [
    "mnemonic = \"put your mnemonic here...\"\n",
    "\n",
    "# Let's set high gas multiplier to avoid out of gas errors. Could be customized per tx.\n",
    "tx_config = TxConfig(gas_multiplier=5)\n",
    "client = ChainClient(Network.testnet(3), tx_config=tx_config)\n",
    "client.authenticate(mnemonic=mnemonic)\n",
    "\n",
    "# Balances check\n",
    "balances = client.query.get_bank_balances(client.address)\n",
    "print_json(balances[\"balances\"])"
   ],
   "metadata": {
    "collapsed": false
   }
  },
  {
   "cell_type": "markdown",
   "source": [
    "### 4. Run Staking Transactions\n",
    "Delegate to a validator:"
   ],
   "metadata": {
    "collapsed": false
   }
  },
  {
   "cell_type": "code",
   "execution_count": null,
   "outputs": [],
   "source": [
    "output = client.tx.execute_msgs(\n",
    "    Msg.staking.delegate(\n",
    "        validator_address=first_validator[\"operator_address\"],\n",
    "        amount=10, # amount in unibi\n",
    "    ),\n",
    "    wait_for_tx_resp=True,  # wait for block and get tx response\n",
    ")\n",
    "# Expected tx response code 0\n",
    "print(f\"tx response Code: {output['code']}\")\n",
    "if output[\"code\"] == 0:\n",
    "    delegations = client.query.staking.delegations(delegator_addr=client.address)[\"delegation_responses\"]\n",
    "    print_json(delegations)"
   ],
   "metadata": {
    "collapsed": false
   }
  },
  {
   "cell_type": "markdown",
   "source": [
    "Undelegate (unbond) tokens from validator:"
   ],
   "metadata": {
    "collapsed": false
   }
  },
  {
   "cell_type": "code",
   "execution_count": null,
   "outputs": [],
   "source": [
    "output = client.tx.execute_msgs(\n",
    "    Msg.staking.undelegate(\n",
    "        validator_address=first_validator[\"operator_address\"],\n",
    "        amount=10, # amount in unibi\n",
    "    ),\n",
    "    wait_for_tx_resp=True,\n",
    ")\n",
    "# Expected tx response code 0\n",
    "print(f\"tx response code: {output['code']}\")\n",
    "if output[\"code\"] == 0:\n",
    "    unbondings = client.query.staking.unbonding_delegations(delegator_addr=client.address)[\"unbonding_responses\"]\n",
    "    print_json(unbondings)"
   ],
   "metadata": {
    "collapsed": false
   }
  }
 ],
 "metadata": {
  "kernelspec": {
   "display_name": "Python 3",
   "language": "python",
   "name": "python3"
  },
  "language_info": {
   "codemirror_mode": {
    "name": "ipython",
    "version": 2
   },
   "file_extension": ".py",
   "mimetype": "text/x-python",
   "name": "python",
   "nbconvert_exporter": "python",
   "pygments_lexer": "ipython2",
   "version": "2.7.6"
  }
 },
 "nbformat": 4,
 "nbformat_minor": 0
}
