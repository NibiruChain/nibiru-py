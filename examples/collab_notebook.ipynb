{
 "cells": [
  {
   "cell_type": "code",
   "execution_count": null,
   "metadata": {},
   "outputs": [],
   "source": [
    "!pip install nibiru==0.5.0a2 --quiet"
   ]
  },
  {
   "cell_type": "markdown",
   "metadata": {},
   "source": [
    "> ⚠ **Warning** : Once the above command ended, please restart the python kernel using `⌘/Ctrl + M .`\n",
    "\n",
    "# Introduction to py-sdk\n",
    "\n",
    "The python sdk allows you to create queries and transaction to a Nibiru chain.\n",
    "\n",
    "It allows to interact with all of the modules and can be leveraged to automate trading strategies or monitor them.\n",
    "\n",
    "This notebook will guide you on opening and closing positions."
   ]
  },
  {
   "cell_type": "code",
   "execution_count": null,
   "metadata": {},
   "outputs": [],
   "source": [
    "import os\n",
    "import json\n",
    "from tqdm import tqdm\n",
    "\n",
    "import nibiru\n",
    "import nibiru.msg"
   ]
  },
  {
   "cell_type": "code",
   "execution_count": null,
   "metadata": {},
   "outputs": [],
   "source": [
    "# We set up the environment variables to connect to devnet\n",
    "envs = {\n",
    "  \"HOST\" : \"34.130.24.87\",\n",
    "  \"LCD_ENDPOINT\" : \"http://34.130.24.87:1317\",\n",
    "  \"GRPC_ENDPOINT\" : \"34.130.24.87:9090\",\n",
    "  \"TENDERMINT_RPC_ENDPOINT\" : \"http://34.130.24.87:26657\",\n",
    "  \"WEBSOCKET_ENDPOINT\" : \"ws://34.130.24.87:26657/websocket\",\n",
    "  \"CHAIN_ID\" : \"nibiru-localnet-0\",\n",
    "}\n",
    "\n",
    "os.environ.update(envs)"
   ]
  },
  {
   "cell_type": "code",
   "execution_count": null,
   "metadata": {},
   "outputs": [],
   "source": [
    "pair = \"ubtc:unusd\""
   ]
  },
  {
   "cell_type": "code",
   "execution_count": null,
   "metadata": {},
   "outputs": [],
   "source": [
    "tx_config = nibiru.TxConfig(tx_type=nibiru.common.TxType.BLOCK)\n",
    "agent = (\n",
    "    nibiru.Sdk\n",
    "    .authorize()\n",
    "    .with_network(nibiru.Network.customnet(), insecure=True)\n",
    "    .with_config(tx_config)\n",
    ")"
   ]
  },
  {
   "cell_type": "markdown",
   "metadata": {},
   "source": [
    "Our trader don't have any fund, so if we try to open a position it will fail saying that the address does not exist (never registered with the auth module of the chain).\n",
    "\n",
    "Let's use the validator funds to give some unusd and unibi to the trader"
   ]
  },
  {
   "cell_type": "code",
   "execution_count": null,
   "metadata": {},
   "outputs": [],
   "source": [
    "whale_mnemonic = \"guard cream sadness conduct invite crumble clock pudding hole grit liar hotel maid produce squeeze return argue turtle know drive eight casino maze host\"\n",
    "\n",
    "validator = (\n",
    "    nibiru.Sdk\n",
    "    .authorize(whale_mnemonic)\n",
    "    .with_network(nibiru.Network.customnet(), insecure=True)\n",
    "    .with_config(tx_config)\n",
    ")"
   ]
  },
  {
   "cell_type": "code",
   "execution_count": null,
   "metadata": {},
   "outputs": [],
   "source": [
    "_ = validator.tx.execute_msgs(\n",
    "    nibiru.msg.MsgSend(\n",
    "        from_address=validator.address,\n",
    "        to_address=agent.address,\n",
    "        coins=[nibiru.Coin(10000, \"unibi\"), nibiru.Coin(10000, \"unusd\")]\n",
    "    )\n",
    ")"
   ]
  },
  {
   "cell_type": "markdown",
   "metadata": {},
   "source": [
    "We can check the new balance of the trader:"
   ]
  },
  {
   "cell_type": "code",
   "execution_count": null,
   "metadata": {},
   "outputs": [],
   "source": [
    "agent.query.get_bank_balances(agent.address)"
   ]
  },
  {
   "cell_type": "markdown",
   "metadata": {},
   "source": [
    "Now with those fresh token, we can open a long position"
   ]
  },
  {
   "cell_type": "code",
   "execution_count": null,
   "metadata": {},
   "outputs": [],
   "source": [
    "_ = agent.tx.execute_msgs(\n",
    "    nibiru.msg.MsgOpenPosition(\n",
    "        sender=agent.address,\n",
    "        token_pair=\"ubtc:unusd\",\n",
    "        side=nibiru.common.Side.BUY,\n",
    "        quote_asset_amount=10,\n",
    "        leverage=10,\n",
    "        base_asset_amount_limit=0,\n",
    "    )\n",
    ")"
   ]
  },
  {
   "cell_type": "code",
   "execution_count": null,
   "metadata": {},
   "outputs": [],
   "source": [
    "def print_position():\n",
    "    print(\n",
    "        json.dumps(\n",
    "            agent.query.perp.position(trader=agent.address, token_pair=\"ubtc:unusd\"),\n",
    "            indent=4,\n",
    "        )\n",
    "    )\n",
    "\n",
    "print_position()"
   ]
  },
  {
   "cell_type": "markdown",
   "metadata": {},
   "source": [
    "We can then add margin to our position"
   ]
  },
  {
   "cell_type": "code",
   "execution_count": null,
   "metadata": {},
   "outputs": [],
   "source": [
    "tx_output = agent.tx.execute_msgs(\n",
    "    nibiru.msg.MsgAddMargin(\n",
    "        sender=agent.address,\n",
    "        token_pair=pair,\n",
    "        margin=nibiru.Coin(10, \"unusd\"),\n",
    "    )\n",
    ")"
   ]
  },
  {
   "cell_type": "code",
   "execution_count": null,
   "metadata": {},
   "outputs": [],
   "source": [
    "print_position()"
   ]
  },
  {
   "cell_type": "markdown",
   "metadata": {},
   "source": [
    "We can then remove it"
   ]
  },
  {
   "cell_type": "code",
   "execution_count": null,
   "metadata": {},
   "outputs": [],
   "source": [
    "tx_output = agent.tx.execute_msgs(\n",
    "    nibiru.msg.MsgRemoveMargin(\n",
    "        sender=agent.address,\n",
    "        token_pair=pair,\n",
    "        margin=nibiru.Coin(5, \"unusd\"),\n",
    "    )\n",
    ")"
   ]
  },
  {
   "cell_type": "code",
   "execution_count": null,
   "metadata": {},
   "outputs": [],
   "source": [
    "print_position()"
   ]
  },
  {
   "cell_type": "markdown",
   "metadata": {},
   "source": [
    "We can then close totally the position"
   ]
  },
  {
   "cell_type": "code",
   "execution_count": null,
   "metadata": {},
   "outputs": [],
   "source": [
    "tx_output = agent.tx.execute_msgs(\n",
    "    nibiru.msg.MsgClosePosition(\n",
    "        sender=agent.address, \n",
    "        token_pair=pair\n",
    "    )\n",
    ")"
   ]
  },
  {
   "cell_type": "markdown",
   "metadata": {},
   "source": [
    "## Multi-transactions"
   ]
  },
  {
   "cell_type": "markdown",
   "metadata": {},
   "source": [
    "We can build multiple messages into a single transactions to be sure that they are executed consecutively.\n",
    "\n",
    "It can be useful for example to send tokens after removing margins from a position"
   ]
  },
  {
   "cell_type": "markdown",
   "metadata": {},
   "source": [
    "Lets create a transction with:\n",
    "- Agent open a position\n",
    "- Agent remove some margin from the position\n",
    "- Agent send this margin to a random address\n",
    "- Agent close the position"
   ]
  },
  {
   "cell_type": "code",
   "execution_count": null,
   "metadata": {},
   "outputs": [],
   "source": [
    "_ = agent.tx.execute_msgs(\n",
    "    [\n",
    "        nibiru.msg.MsgOpenPosition(\n",
    "            sender=agent.address,\n",
    "            token_pair=\"ubtc:unusd\",\n",
    "            side=nibiru.common.Side.BUY,\n",
    "            quote_asset_amount=100,\n",
    "            base_asset_amount_limit=0,\n",
    "            leverage=5,\n",
    "        ),\n",
    "        nibiru.msg.MsgRemoveMargin(\n",
    "            sender=agent.address,\n",
    "            token_pair=pair,\n",
    "            margin=nibiru.Coin(5, \"unusd\"),\n",
    "        ),\n",
    "        nibiru.msg.MsgSend(\n",
    "            from_address=agent.address,\n",
    "            to_address=validator.address,\n",
    "            coins=[nibiru.Coin(5, \"unusd\")]            \n",
    "        ),\n",
    "        nibiru.msg.MsgClosePosition(\n",
    "            sender=agent.address, \n",
    "            token_pair=pair\n",
    "        )                \n",
    "    ]\n",
    ")"
   ]
  },
  {
   "cell_type": "markdown",
   "metadata": {},
   "source": [
    "## Arbitrage strategy"
   ]
  },
  {
   "cell_type": "markdown",
   "metadata": {},
   "source": [
    "Let's look at the current btc:usd mark price in our chain"
   ]
  },
  {
   "cell_type": "code",
   "execution_count": null,
   "metadata": {},
   "outputs": [],
   "source": [
    "reserves = validator.query.vpool.reserve_assets(pair=pair)\n",
    "reserves"
   ]
  },
  {
   "cell_type": "markdown",
   "metadata": {},
   "source": [
    "We can get the price by dividing the quote asset reserve by the base asset reserve:"
   ]
  },
  {
   "cell_type": "code",
   "execution_count": null,
   "metadata": {},
   "outputs": [],
   "source": [
    "current_price = reserves[\"quote_asset_reserve\"] / reserves[\"base_asset_reserve\"]\n",
    "current_price"
   ]
  },
  {
   "cell_type": "markdown",
   "metadata": {},
   "source": [
    "BTC:USD spot is currently at 19,193.70USD. Which means that we need short positions opened to move the mark price down to the index price"
   ]
  },
  {
   "cell_type": "code",
   "execution_count": null,
   "metadata": {},
   "outputs": [],
   "source": [
    "import math\n",
    "def quote_needed_to_move_price(current_price, target_price, quote_reserve) -> float:\n",
    "    \"\"\"\n",
    "    Compute how much quote is needed to move the pool current_price to target_price. This does not include fees.\n",
    "    Demonstration is left as an exercise (involve playing a bit with the xy=k formula)\n",
    "\n",
    "    Returns:\n",
    "        float: Amount of quote to swap\n",
    "    \"\"\"\n",
    "    qp = target_price / current_price\n",
    "    return -(quote_reserve / math.sqrt(qp) - quote_reserve)"
   ]
  },
  {
   "cell_type": "code",
   "execution_count": null,
   "metadata": {},
   "outputs": [],
   "source": [
    "short_needed = quote_needed_to_move_price(20000, 19193.7, reserves[\"quote_asset_reserve\"])\n",
    "short_needed"
   ]
  },
  {
   "cell_type": "markdown",
   "metadata": {},
   "source": [
    "A short position of -415764259331 unusd (-415,764 USD) is needed in order to move the mark price to the current index price of BTC. We want to open this in small steps though since we don't want to trade over the current fluctuation limit. We will do that in 10 transactions."
   ]
  },
  {
   "cell_type": "code",
   "execution_count": null,
   "metadata": {},
   "outputs": [],
   "source": [
    "for _ in tqdm(range(10)):\n",
    "    validator.tx.execute_msgs(\n",
    "        nibiru.msg.MsgOpenPosition(\n",
    "            sender=validator.address, \n",
    "            token_pair=\"ubtc:unusd\", \n",
    "            side=nibiru.common.Side.SELL, \n",
    "            quote_asset_amount=abs(short_needed)/10, \n",
    "            leverage=1, \n",
    "            base_asset_amount_limit=100000000000\n",
    "        )\n",
    "    )"
   ]
  },
  {
   "cell_type": "markdown",
   "metadata": {},
   "source": [
    "We can now ensure that the new price is almost equal to 19,193"
   ]
  },
  {
   "cell_type": "code",
   "execution_count": null,
   "metadata": {},
   "outputs": [],
   "source": [
    "reserves = validator.query.vpool.reserve_assets(pair=pair)\n",
    "new_price = reserves[\"quote_asset_reserve\"] / reserves[\"base_asset_reserve\"]\n",
    "new_price"
   ]
  },
  {
   "cell_type": "code",
   "execution_count": null,
   "metadata": {},
   "outputs": [],
   "source": [
    "validator.tx.execute_msgs(\n",
    "    nibiru.msg.MsgClosePosition(\n",
    "        sender=validator.address, \n",
    "        token_pair=\"ubtc:unusd\", \n",
    "    )\n",
    ")"
   ]
  }
 ],
 "metadata": {
  "kernelspec": {
   "display_name": "Python 3.9.7 ('nibiru-_E-NGQXs-py3.9')",
   "language": "python",
   "name": "python3"
  },
  "language_info": {
   "codemirror_mode": {
    "name": "ipython",
    "version": 3
   },
   "file_extension": ".py",
   "mimetype": "text/x-python",
   "name": "python",
   "nbconvert_exporter": "python",
   "pygments_lexer": "ipython3",
   "version": "3.9.7"
  },
  "orig_nbformat": 4,
  "vscode": {
   "interpreter": {
    "hash": "7c6bd61663bceee3e2601a36851271cf155d92f6d8ba6243c3c4f2abab52c877"
   }
  }
 },
 "nbformat": 4,
 "nbformat_minor": 2
}
