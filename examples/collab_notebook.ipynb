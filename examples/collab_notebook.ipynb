{
 "cells": [
  {
   "cell_type": "markdown",
   "metadata": {},
   "source": [
    "# Introduction to py-sdk\n",
    "\n",
    "The python sdk allows you to create queries and transaction to a Nibiru chain.\n",
    "\n",
    "It allows to interact with all of the modules and can be leveraged to automate trading strategies or monitor them.\n",
    "\n",
    "This notebook will guide you on opening and closing positions."
   ]
  },
  {
   "cell_type": "code",
   "execution_count": null,
   "metadata": {},
   "outputs": [],
   "source": [
    "import json\n",
    "import requests\n",
    "import time\n",
    "import nibiru\n",
    "import nibiru.msg"
   ]
  },
  {
   "cell_type": "markdown",
   "metadata": {},
   "source": [
    "Let's set up the chain to which we will be connecting to. If you have a preferred endpoint you can update these values to connect to it. Make sure that the node have the port opens for 1317, 26657 and 9090."
   ]
  },
  {
   "cell_type": "code",
   "execution_count": null,
   "metadata": {},
   "outputs": [],
   "source": [
    "pair = \"ubtc:unusd\""
   ]
  },
  {
   "cell_type": "markdown",
   "metadata": {},
   "source": [
    "Next, let's make sure that the transaction we send are synchronous. This way if no error is raised when running the execute_msgs method, we are sure that the transaction was successful."
   ]
  },
  {
   "cell_type": "code",
   "execution_count": null,
   "metadata": {},
   "outputs": [],
   "source": [
    "network = nibiru.Network.testnet()"
   ]
  },
  {
   "cell_type": "code",
   "execution_count": null,
   "metadata": {},
   "outputs": [],
   "source": [
    "tx_config = nibiru.TxConfig(tx_type=nibiru.TxType.BLOCK, gas_multiplier=3)\n",
    "agent = (\n",
    "    nibiru.Sdk.authorize().with_network(network).with_config(tx_config)\n",
    ")\n"
   ]
  },
  {
   "cell_type": "markdown",
   "metadata": {},
   "source": [
    "Our trader don't have any fund, so if we try to open a position it will fail saying that the address does not exist (never registered with the auth module of the chain).\n",
    "\n",
    "Let's use the faucet to give some unusd and unibi to the trader"
   ]
  },
  {
   "cell_type": "code",
   "execution_count": null,
   "metadata": {},
   "outputs": [],
   "source": []
  },
  {
   "cell_type": "code",
   "execution_count": null,
   "metadata": {},
   "outputs": [],
   "source": [
    "try_count = 0\n",
    "while not agent.query.get_bank_balances(agent.address)[\"balances\"]:\n",
    "    try_count += 1\n",
    "    if try_count > 10:\n",
    "        raise Exception(\"unable to get funds from the faucet...\")\n",
    "\n",
    "    response = requests.post(\n",
    "        \"https://faucet.testnet-2.nibiru.fi/\",\n",
    "        json={\n",
    "            \"address\": agent.address,\n",
    "            \"coins\": [\"10000000unibi\", \"100000000000unusd\"],\n",
    "        },\n",
    "    )\n",
    "    print(response.content)\n",
    "    time.sleep(10)\n"
   ]
  },
  {
   "cell_type": "markdown",
   "metadata": {},
   "source": [
    "We can check the new balance of the trader:"
   ]
  },
  {
   "cell_type": "code",
   "execution_count": null,
   "metadata": {},
   "outputs": [],
   "source": [
    "print(agent.query.get_bank_balances(agent.address))"
   ]
  },
  {
   "cell_type": "markdown",
   "metadata": {},
   "source": [
    "Now with those fresh token, we can open a long position"
   ]
  },
  {
   "cell_type": "code",
   "execution_count": null,
   "metadata": {},
   "outputs": [],
   "source": [
    "_ = agent.tx.execute_msgs(\n",
    "    nibiru.msg.perp.MsgOpenPosition(\n",
    "        sender=agent.address,\n",
    "        pair=\"ubtc:unusd\",\n",
    "        side=nibiru.Side.BUY,\n",
    "        quote_asset_amount=1,\n",
    "        leverage=10,\n",
    "        base_asset_amount_limit=0,\n",
    "    )\n",
    ")\n"
   ]
  },
  {
   "cell_type": "code",
   "execution_count": null,
   "metadata": {},
   "outputs": [],
   "source": [
    "def print_position():\n",
    "    print(\n",
    "        json.dumps(\n",
    "            agent.query.perp.position(trader=agent.address, pair=\"ubtc:unusd\"),\n",
    "            indent=4,\n",
    "        )\n",
    "    )\n",
    "\n",
    "\n",
    "print_position()"
   ]
  },
  {
   "cell_type": "markdown",
   "metadata": {},
   "source": [
    "We can then add margin to our position"
   ]
  },
  {
   "cell_type": "code",
   "execution_count": null,
   "metadata": {},
   "outputs": [],
   "source": [
    "tx_output = agent.tx.execute_msgs(\n",
    "    nibiru.msg.perp.MsgAddMargin(\n",
    "        sender=agent.address,\n",
    "        pair=pair,\n",
    "        margin=nibiru.Coin(1, \"unusd\"),\n",
    "    )\n",
    ")\n"
   ]
  },
  {
   "cell_type": "code",
   "execution_count": null,
   "metadata": {},
   "outputs": [],
   "source": [
    "print_position()\n"
   ]
  },
  {
   "cell_type": "markdown",
   "metadata": {},
   "source": [
    "We can then remove it"
   ]
  },
  {
   "cell_type": "code",
   "execution_count": null,
   "metadata": {},
   "outputs": [],
   "source": [
    "tx_output = agent.tx.execute_msgs(\n",
    "    nibiru.msg.perp.MsgRemoveMargin(\n",
    "        sender=agent.address,\n",
    "        pair=pair,\n",
    "        margin=nibiru.Coin(1, \"unusd\"),\n",
    "    )\n",
    ")\n"
   ]
  },
  {
   "cell_type": "code",
   "execution_count": null,
   "metadata": {},
   "outputs": [],
   "source": [
    "print_position()\n"
   ]
  },
  {
   "cell_type": "markdown",
   "metadata": {},
   "source": [
    "We can then close totally the position"
   ]
  },
  {
   "cell_type": "code",
   "execution_count": null,
   "metadata": {},
   "outputs": [],
   "source": [
    "tx_output = agent.tx.execute_msgs(\n",
    "    nibiru.msg.perp.MsgClosePosition(sender=agent.address, pair=pair)\n",
    ")"
   ]
  },
  {
   "cell_type": "markdown",
   "metadata": {},
   "source": [
    "## Multi-transactions"
   ]
  },
  {
   "cell_type": "markdown",
   "metadata": {},
   "source": [
    "We can build multiple messages into a single transactions to be sure that they are executed consecutively.\n",
    "\n",
    "It can be useful for example to send tokens after removing margins from a position"
   ]
  },
  {
   "cell_type": "markdown",
   "metadata": {},
   "source": [
    "Lets create a transction with:\n",
    "- Agent open a position\n",
    "- Agent remove some margin from the position\n",
    "- Agent send this margin to a random address\n",
    "- Agent close the position"
   ]
  },
  {
   "cell_type": "code",
   "execution_count": null,
   "metadata": {},
   "outputs": [],
   "source": [
    "_ = agent.tx.execute_msgs(\n",
    "    [\n",
    "        nibiru.msg.perp.MsgOpenPosition(\n",
    "            sender=agent.address,\n",
    "            pair=\"ubtc:unusd\",\n",
    "            side=nibiru.Side.BUY,\n",
    "            quote_asset_amount=2,\n",
    "            base_asset_amount_limit=0,\n",
    "            leverage=5,\n",
    "        ),\n",
    "        nibiru.msg.perp.MsgRemoveMargin(\n",
    "            sender=agent.address,\n",
    "            pair=pair,\n",
    "            margin=nibiru.Coin(1, \"unusd\"),\n",
    "        ),\n",
    "        nibiru.msg.bank.MsgSend(\n",
    "            from_address=agent.address,\n",
    "            to_address=\"nibi1g39urhrvycnrc8y99xmqm7udr6fltjs3stnkxp\", # Random address\n",
    "            coins=[nibiru.Coin(1, \"unusd\")],\n",
    "        ),\n",
    "        nibiru.msg.perp.MsgClosePosition(sender=agent.address, pair=pair),\n",
    "    ]\n",
    ")"
   ]
  }
 ],
 "metadata": {
  "kernelspec": {
   "display_name": "nibiru-py-k3GTQe1V",
   "language": "python",
   "name": "python3"
  },
  "language_info": {
   "codemirror_mode": {
    "name": "ipython",
    "version": 3
   },
   "file_extension": ".py",
   "mimetype": "text/x-python",
   "name": "python",
   "nbconvert_exporter": "python",
   "pygments_lexer": "ipython3",
   "version": "3.9.16"
  },
  "orig_nbformat": 4,
  "vscode": {
   "interpreter": {
    "hash": "b332d8d531602c345a00d4444116ed5f8f40664116717716e6e6b2e5640a7573"
   }
  }
 },
 "nbformat": 4,
 "nbformat_minor": 2
}
