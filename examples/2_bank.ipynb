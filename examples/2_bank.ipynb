{
 "cells": [
  {
   "cell_type": "markdown",
   "source": [
    "# Nibiru Bank Queries and Transactions\n",
    "Examples of checking balances and token transfers."
   ],
   "metadata": {
    "collapsed": false
   }
  },
  {
   "cell_type": "markdown",
   "source": [
    "### 1. Install Nibiru package"
   ],
   "metadata": {
    "collapsed": false
   }
  },
  {
   "cell_type": "code",
   "execution_count": null,
   "outputs": [],
   "source": [
    "!pip install nibiru"
   ],
   "metadata": {
    "collapsed": false
   }
  },
  {
   "cell_type": "markdown",
   "source": [
    "### 2. Create chain client and run queries\n",
    "Using testnet-3 (aka itn-3) endpoint run queries."
   ],
   "metadata": {
    "collapsed": false
   }
  },
  {
   "cell_type": "code",
   "execution_count": null,
   "outputs": [],
   "source": [
    "import json\n",
    "from nibiru import Network, ChainClient, Msg, Coin, TxConfig\n",
    "\n",
    "client = ChainClient(network=Network.testnet(3))"
   ],
   "metadata": {
    "collapsed": false
   }
  },
  {
   "cell_type": "code",
   "execution_count": null,
   "outputs": [],
   "source": [
    "# Shortcut to print responses\n",
    "def print_json(obj):\n",
    "    print(json.dumps(obj, indent=2))"
   ],
   "metadata": {
    "collapsed": false
   }
  },
  {
   "cell_type": "code",
   "execution_count": null,
   "outputs": [],
   "source": [
    "# Query all balances of the user\n",
    "user_address = \"nibi1jle8khj3aennq24zx6g93aam9rt0fqhgyp4h52\"\n",
    "balances = client.query.get_bank_balances(user_address)[\"balances\"]\n",
    "print_json(balances)"
   ],
   "metadata": {
    "collapsed": false
   }
  },
  {
   "cell_type": "code",
   "execution_count": null,
   "outputs": [],
   "source": [
    "# Query the balance of the specific token\n",
    "balance = client.query.get_bank_balance(user_address, \"unusd\")[\"balance\"]\n",
    "print_json(balance)"
   ],
   "metadata": {
    "collapsed": false
   }
  },
  {
   "cell_type": "markdown",
   "source": [
    "### 3. Authenticate to run transactions\n",
    "Assuming you have your wallet mnemonic key (or private key) and some test tokens from the faucet.\n",
    "See: https://app.nibiru.fi/faucet"
   ],
   "metadata": {
    "collapsed": false
   }
  },
  {
   "cell_type": "code",
   "execution_count": null,
   "outputs": [],
   "source": [
    "mnemonic = \"put your mnemonic here...\"\n",
    "\n",
    "# Let's set high gas multiplier to avoid out of gas errors. Could be customized per tx.\n",
    "tx_config = TxConfig(gas_multiplier=5)\n",
    "client = ChainClient(Network.testnet(3), tx_config=tx_config)\n",
    "client.authenticate(mnemonic=mnemonic)"
   ],
   "metadata": {
    "collapsed": false
   }
  },
  {
   "cell_type": "markdown",
   "source": [
    "### 4. Transfer tokens"
   ],
   "metadata": {
    "collapsed": false
   }
  },
  {
   "cell_type": "code",
   "execution_count": null,
   "outputs": [],
   "source": [
    "receiver_addr = \"nibi1etuegt9m6m975xrkrzrxdnu00gz99pke9w44t6\"\n",
    "output = client.tx.execute_msgs(\n",
    "    Msg.bank.send(\n",
    "        to_address=receiver_addr,\n",
    "        coins=[Coin(1, \"unibi\"), Coin(2, \"unusd\")]\n",
    "    ),\n",
    "    wait_for_tx_resp=True,  # wait for block and get tx response\n",
    ")\n",
    "# Expected tx response code 0\n",
    "print(f\"tx response Code: {output['code']}\")\n",
    "if output[\"code\"] == 0:\n",
    "    balances = client.query.get_bank_balances(receiver_addr)[\"balances\"]\n",
    "    print_json(balances)"
   ],
   "metadata": {
    "collapsed": false
   }
  }
 ],
 "metadata": {
  "kernelspec": {
   "display_name": "Python 3",
   "language": "python",
   "name": "python3"
  },
  "language_info": {
   "codemirror_mode": {
    "name": "ipython",
    "version": 2
   },
   "file_extension": ".py",
   "mimetype": "text/x-python",
   "name": "python",
   "nbconvert_exporter": "python",
   "pygments_lexer": "ipython2",
   "version": "2.7.6"
  }
 },
 "nbformat": 4,
 "nbformat_minor": 0
}
