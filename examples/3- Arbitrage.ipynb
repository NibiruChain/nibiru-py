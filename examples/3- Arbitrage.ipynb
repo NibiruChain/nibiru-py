{
 "cells": [
  {
   "cell_type": "code",
   "execution_count": null,
   "metadata": {},
   "outputs": [],
   "source": [
    "import nibiru\n",
    "import nibiru.common # Common values and types to run\n",
    "import nibiru.msg # Messages package for transactions\n",
    "import json\n",
    "from datetime import datetime, timedelta\n",
    "import time"
   ]
  },
  {
   "cell_type": "code",
   "execution_count": null,
   "metadata": {},
   "outputs": [],
   "source": [
    "network = nibiru.Network.customnet()"
   ]
  },
  {
   "cell_type": "code",
   "execution_count": null,
   "metadata": {},
   "outputs": [],
   "source": [
    "VALIDATOR_MNEMONIC=\"guard cream sadness conduct invite crumble clock pudding hole grit liar hotel maid produce squeeze return argue turtle know drive eight casino maze host\""
   ]
  },
  {
   "cell_type": "code",
   "execution_count": null,
   "metadata": {},
   "outputs": [],
   "source": [
    "tx_config = nibiru.TxConfig(tx_type=nibiru.common.TxType.BLOCK)\n",
    "\n",
    "validator = (\n",
    "    nibiru.Sdk\n",
    "        .authorize(VALIDATOR_MNEMONIC) # This allows us to recover the wallet with a mnemonic\n",
    "        .with_network(network, insecure=True)\n",
    "        .with_config(tx_config)\n",
    ")"
   ]
  },
  {
   "cell_type": "markdown",
   "metadata": {},
   "source": [
    "# Arbitrage\n",
    "\n",
    "Let's look at the current btc:usd mark price in our chain"
   ]
  },
  {
   "cell_type": "code",
   "execution_count": null,
   "metadata": {},
   "outputs": [],
   "source": [
    "reserves = validator.query.vpool.reserve_assets(pair=\"ubtc:unusd\")"
   ]
  },
  {
   "cell_type": "code",
   "execution_count": null,
   "metadata": {},
   "outputs": [],
   "source": [
    "reserves"
   ]
  },
  {
   "cell_type": "markdown",
   "metadata": {},
   "source": [
    "We can get the price by dividing the quote asset reserve by the base asset reserve:"
   ]
  },
  {
   "cell_type": "code",
   "execution_count": null,
   "metadata": {},
   "outputs": [],
   "source": [
    "reserves[\"quote_asset_reserve\"] / reserves[\"base_asset_reserve\"]"
   ]
  },
  {
   "cell_type": "markdown",
   "metadata": {},
   "source": [
    "BTC:USD spot is currently at 19,759.40USD. Which means that we need short positions opened to move the mark price down to the index price"
   ]
  },
  {
   "cell_type": "code",
   "execution_count": null,
   "metadata": {},
   "outputs": [],
   "source": [
    "import math\n",
    "def quote_needed_to_move_price(current_price, target_price, quote_reserve) -> float:\n",
    "    \"\"\"\n",
    "    Compute how much quote is needed to move the pool current_price to target_price. This does not include fees.\n",
    "    Demonstration is left as an exercise (involve playing a bit with the xy=k formula)\n",
    "\n",
    "    Returns:\n",
    "        float: Amount of quote to swap\n",
    "    \"\"\"\n",
    "    qp = target_price / current_price\n",
    "    return -(quote_reserve / math.sqrt(qp) - quote_reserve)"
   ]
  },
  {
   "cell_type": "code",
   "execution_count": null,
   "metadata": {},
   "outputs": [],
   "source": [
    "quote_needed_to_move_price(20000, 19759.40, reserves[\"quote_asset_reserve\"])"
   ]
  },
  {
   "cell_type": "code",
   "execution_count": null,
   "metadata": {},
   "outputs": [],
   "source": [
    "# This might fail is you are trying to move the price too much in a single block.\n",
    "# There's a fluctuation limit as to how much you can move the price by yourself, which is usually\n",
    "# around 10% (query the vpool to check how much it is)\n",
    "\n",
    "tx_output = validator.tx.execute_msgs(\n",
    "    nibiru.msg.MsgOpenPosition(\n",
    "        sender=validator.address, \n",
    "        token_pair=\"ubtc:unusd\", \n",
    "        side=nibiru.common.Side.SELL, \n",
    "        quote_asset_amount=6069820187248.625, \n",
    "        leverage=1, \n",
    "        base_asset_amount_limit=100000000000)\n",
    ")"
   ]
  },
  {
   "cell_type": "code",
   "execution_count": null,
   "metadata": {},
   "outputs": [],
   "source": [
    "reserves = validator.query.vpool.reserve_assets(pair=\"ubtc:unusd\")\n",
    "reserves[\"quote_asset_reserve\"] / reserves[\"base_asset_reserve\"]"
   ]
  }
 ],
 "metadata": {
  "kernelspec": {
   "display_name": "Python 3.10.4 ('nibi')",
   "language": "python",
   "name": "python3"
  },
  "language_info": {
   "codemirror_mode": {
    "name": "ipython",
    "version": 3
   },
   "file_extension": ".py",
   "mimetype": "text/x-python",
   "name": "python",
   "nbconvert_exporter": "python",
   "pygments_lexer": "ipython3",
   "version": "3.10.4"
  },
  "orig_nbformat": 4,
  "vscode": {
   "interpreter": {
    "hash": "23c82724f6800107d27a1bc097df076b7f523b299f39e774e7f2b8b0c7154a18"
   }
  }
 },
 "nbformat": 4,
 "nbformat_minor": 2
}
