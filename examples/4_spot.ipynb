{
 "cells": [
  {
   "cell_type": "markdown",
   "source": [
    "# Nibiru Spots (Swaps) Queries and Transactions\n",
    "Examples of executing asset swaps."
   ],
   "metadata": {
    "collapsed": false
   }
  },
  {
   "cell_type": "markdown",
   "source": [
    "### 1. Install Nibiru package"
   ],
   "metadata": {
    "collapsed": false
   }
  },
  {
   "cell_type": "code",
   "execution_count": 57,
   "outputs": [
    {
     "name": "stdout",
     "output_type": "stream",
     "text": [
      "Requirement already satisfied: nibiru in /Users/onikonychev/Library/Caches/pypoetry/virtualenvs/nibiru-j2Omu5Jd-py3.8/lib/python3.8/site-packages (0.21.9)\r\n",
      "Requirement already satisfied: aiocron<2.0,>=1.8 in /Users/onikonychev/Library/Caches/pypoetry/virtualenvs/nibiru-j2Omu5Jd-py3.8/lib/python3.8/site-packages (from nibiru) (1.8)\r\n",
      "Requirement already satisfied: aiohttp<4.0.0,>=3.8.3 in /Users/onikonychev/Library/Caches/pypoetry/virtualenvs/nibiru-j2Omu5Jd-py3.8/lib/python3.8/site-packages (from nibiru) (3.8.5)\r\n",
      "Requirement already satisfied: asyncio<4.0.0,>=3.4.3 in /Users/onikonychev/Library/Caches/pypoetry/virtualenvs/nibiru-j2Omu5Jd-py3.8/lib/python3.8/site-packages (from nibiru) (3.4.3)\r\n",
      "Requirement already satisfied: bech32<2.0.0,>=1.2.0 in /Users/onikonychev/Library/Caches/pypoetry/virtualenvs/nibiru-j2Omu5Jd-py3.8/lib/python3.8/site-packages (from nibiru) (1.2.0)\r\n",
      "Requirement already satisfied: bip32<4.0,>=3.3 in /Users/onikonychev/Library/Caches/pypoetry/virtualenvs/nibiru-j2Omu5Jd-py3.8/lib/python3.8/site-packages (from nibiru) (3.4)\r\n",
      "Requirement already satisfied: ecdsa<0.19.0,>=0.18.0 in /Users/onikonychev/Library/Caches/pypoetry/virtualenvs/nibiru-j2Omu5Jd-py3.8/lib/python3.8/site-packages (from nibiru) (0.18.0)\r\n",
      "Requirement already satisfied: hdwallets<0.2.0,>=0.1.2 in /Users/onikonychev/Library/Caches/pypoetry/virtualenvs/nibiru-j2Omu5Jd-py3.8/lib/python3.8/site-packages (from nibiru) (0.1.2)\r\n",
      "Collecting importlib-metadata<6.0.0,>=5.0.0 (from nibiru)\r\n",
      "  Using cached importlib_metadata-5.2.0-py3-none-any.whl (21 kB)\r\n",
      "Requirement already satisfied: mnemonic<0.21,>=0.20 in /Users/onikonychev/Library/Caches/pypoetry/virtualenvs/nibiru-j2Omu5Jd-py3.8/lib/python3.8/site-packages (from nibiru) (0.20)\r\n",
      "Requirement already satisfied: nibiru-proto==0.21.9 in /Users/onikonychev/Library/Caches/pypoetry/virtualenvs/nibiru-j2Omu5Jd-py3.8/lib/python3.8/site-packages (from nibiru) (0.21.9)\r\n",
      "Collecting packaging<22.0,>=21.3 (from nibiru)\r\n",
      "  Using cached packaging-21.3-py3-none-any.whl (40 kB)\r\n",
      "Collecting pre-commit<3.0.0,>=2.20.0 (from nibiru)\r\n",
      "  Using cached pre_commit-2.21.0-py2.py3-none-any.whl (201 kB)\r\n",
      "Collecting python-dotenv<0.22.0,>=0.21.0 (from nibiru)\r\n",
      "  Using cached python_dotenv-0.21.1-py3-none-any.whl (19 kB)\r\n",
      "Requirement already satisfied: requests<3.0.0,>=2.28.1 in /Users/onikonychev/Library/Caches/pypoetry/virtualenvs/nibiru-j2Omu5Jd-py3.8/lib/python3.8/site-packages (from nibiru) (2.31.0)\r\n",
      "Requirement already satisfied: shutup<0.3.0,>=0.2.0 in /Users/onikonychev/Library/Caches/pypoetry/virtualenvs/nibiru-j2Omu5Jd-py3.8/lib/python3.8/site-packages (from nibiru) (0.2.0)\r\n",
      "Requirement already satisfied: types-protobuf<5.0.0.0,>=4.23.0.1 in /Users/onikonychev/Library/Caches/pypoetry/virtualenvs/nibiru-j2Omu5Jd-py3.8/lib/python3.8/site-packages (from nibiru) (4.24.0.2)\r\n",
      "Requirement already satisfied: websocket-client<2.0.0,>=1.4.1 in /Users/onikonychev/Library/Caches/pypoetry/virtualenvs/nibiru-j2Omu5Jd-py3.8/lib/python3.8/site-packages (from nibiru) (1.6.3)\r\n",
      "Requirement already satisfied: grpcio<2.0.0,>=1.51.1 in /Users/onikonychev/Library/Caches/pypoetry/virtualenvs/nibiru-j2Omu5Jd-py3.8/lib/python3.8/site-packages (from nibiru-proto==0.21.9->nibiru) (1.59.0)\r\n",
      "Requirement already satisfied: grpcio-tools<2.0.0,>=1.51.1 in /Users/onikonychev/Library/Caches/pypoetry/virtualenvs/nibiru-j2Omu5Jd-py3.8/lib/python3.8/site-packages (from nibiru-proto==0.21.9->nibiru) (1.58.0)\r\n",
      "Requirement already satisfied: mypy-protobuf<4.0.0,>=3.4.0 in /Users/onikonychev/Library/Caches/pypoetry/virtualenvs/nibiru-j2Omu5Jd-py3.8/lib/python3.8/site-packages (from nibiru-proto==0.21.9->nibiru) (3.5.0)\r\n",
      "Requirement already satisfied: protobuf<5.0.0,>=4.21.12 in /Users/onikonychev/Library/Caches/pypoetry/virtualenvs/nibiru-j2Omu5Jd-py3.8/lib/python3.8/site-packages (from nibiru-proto==0.21.9->nibiru) (4.24.3)\r\n",
      "Requirement already satisfied: croniter in /Users/onikonychev/Library/Caches/pypoetry/virtualenvs/nibiru-j2Omu5Jd-py3.8/lib/python3.8/site-packages (from aiocron<2.0,>=1.8->nibiru) (1.4.1)\r\n",
      "Requirement already satisfied: tzlocal in /Users/onikonychev/Library/Caches/pypoetry/virtualenvs/nibiru-j2Omu5Jd-py3.8/lib/python3.8/site-packages (from aiocron<2.0,>=1.8->nibiru) (5.0.1)\r\n",
      "Requirement already satisfied: attrs>=17.3.0 in /Users/onikonychev/Library/Caches/pypoetry/virtualenvs/nibiru-j2Omu5Jd-py3.8/lib/python3.8/site-packages (from aiohttp<4.0.0,>=3.8.3->nibiru) (23.1.0)\r\n",
      "Requirement already satisfied: charset-normalizer<4.0,>=2.0 in /Users/onikonychev/Library/Caches/pypoetry/virtualenvs/nibiru-j2Omu5Jd-py3.8/lib/python3.8/site-packages (from aiohttp<4.0.0,>=3.8.3->nibiru) (3.3.0)\r\n",
      "Requirement already satisfied: multidict<7.0,>=4.5 in /Users/onikonychev/Library/Caches/pypoetry/virtualenvs/nibiru-j2Omu5Jd-py3.8/lib/python3.8/site-packages (from aiohttp<4.0.0,>=3.8.3->nibiru) (6.0.4)\r\n",
      "Requirement already satisfied: async-timeout<5.0,>=4.0.0a3 in /Users/onikonychev/Library/Caches/pypoetry/virtualenvs/nibiru-j2Omu5Jd-py3.8/lib/python3.8/site-packages (from aiohttp<4.0.0,>=3.8.3->nibiru) (4.0.3)\r\n",
      "Requirement already satisfied: yarl<2.0,>=1.0 in /Users/onikonychev/Library/Caches/pypoetry/virtualenvs/nibiru-j2Omu5Jd-py3.8/lib/python3.8/site-packages (from aiohttp<4.0.0,>=3.8.3->nibiru) (1.9.2)\r\n",
      "Requirement already satisfied: frozenlist>=1.1.1 in /Users/onikonychev/Library/Caches/pypoetry/virtualenvs/nibiru-j2Omu5Jd-py3.8/lib/python3.8/site-packages (from aiohttp<4.0.0,>=3.8.3->nibiru) (1.4.0)\r\n",
      "Requirement already satisfied: aiosignal>=1.1.2 in /Users/onikonychev/Library/Caches/pypoetry/virtualenvs/nibiru-j2Omu5Jd-py3.8/lib/python3.8/site-packages (from aiohttp<4.0.0,>=3.8.3->nibiru) (1.3.1)\r\n",
      "Requirement already satisfied: base58~=2.0 in /Users/onikonychev/Library/Caches/pypoetry/virtualenvs/nibiru-j2Omu5Jd-py3.8/lib/python3.8/site-packages (from bip32<4.0,>=3.3->nibiru) (2.1.1)\r\n",
      "Requirement already satisfied: coincurve<19,>=15.0 in /Users/onikonychev/Library/Caches/pypoetry/virtualenvs/nibiru-j2Omu5Jd-py3.8/lib/python3.8/site-packages (from bip32<4.0,>=3.3->nibiru) (18.0.0)\r\n",
      "Requirement already satisfied: six>=1.9.0 in /Users/onikonychev/Library/Caches/pypoetry/virtualenvs/nibiru-j2Omu5Jd-py3.8/lib/python3.8/site-packages (from ecdsa<0.19.0,>=0.18.0->nibiru) (1.16.0)\r\n",
      "Requirement already satisfied: zipp>=0.5 in /Users/onikonychev/Library/Caches/pypoetry/virtualenvs/nibiru-j2Omu5Jd-py3.8/lib/python3.8/site-packages (from importlib-metadata<6.0.0,>=5.0.0->nibiru) (3.17.0)\r\n",
      "Requirement already satisfied: pyparsing!=3.0.5,>=2.0.2 in /Users/onikonychev/Library/Caches/pypoetry/virtualenvs/nibiru-j2Omu5Jd-py3.8/lib/python3.8/site-packages (from packaging<22.0,>=21.3->nibiru) (3.1.1)\r\n",
      "Requirement already satisfied: cfgv>=2.0.0 in /Users/onikonychev/Library/Caches/pypoetry/virtualenvs/nibiru-j2Omu5Jd-py3.8/lib/python3.8/site-packages (from pre-commit<3.0.0,>=2.20.0->nibiru) (3.4.0)\r\n",
      "Requirement already satisfied: identify>=1.0.0 in /Users/onikonychev/Library/Caches/pypoetry/virtualenvs/nibiru-j2Omu5Jd-py3.8/lib/python3.8/site-packages (from pre-commit<3.0.0,>=2.20.0->nibiru) (2.5.30)\r\n",
      "Requirement already satisfied: nodeenv>=0.11.1 in /Users/onikonychev/Library/Caches/pypoetry/virtualenvs/nibiru-j2Omu5Jd-py3.8/lib/python3.8/site-packages (from pre-commit<3.0.0,>=2.20.0->nibiru) (1.8.0)\r\n",
      "Requirement already satisfied: pyyaml>=5.1 in /Users/onikonychev/Library/Caches/pypoetry/virtualenvs/nibiru-j2Omu5Jd-py3.8/lib/python3.8/site-packages (from pre-commit<3.0.0,>=2.20.0->nibiru) (6.0.1)\r\n",
      "Requirement already satisfied: virtualenv>=20.10.0 in /Users/onikonychev/Library/Caches/pypoetry/virtualenvs/nibiru-j2Omu5Jd-py3.8/lib/python3.8/site-packages (from pre-commit<3.0.0,>=2.20.0->nibiru) (20.24.5)\r\n",
      "Requirement already satisfied: idna<4,>=2.5 in /Users/onikonychev/Library/Caches/pypoetry/virtualenvs/nibiru-j2Omu5Jd-py3.8/lib/python3.8/site-packages (from requests<3.0.0,>=2.28.1->nibiru) (3.4)\r\n",
      "Requirement already satisfied: urllib3<3,>=1.21.1 in /Users/onikonychev/Library/Caches/pypoetry/virtualenvs/nibiru-j2Omu5Jd-py3.8/lib/python3.8/site-packages (from requests<3.0.0,>=2.28.1->nibiru) (2.0.6)\r\n",
      "Requirement already satisfied: certifi>=2017.4.17 in /Users/onikonychev/Library/Caches/pypoetry/virtualenvs/nibiru-j2Omu5Jd-py3.8/lib/python3.8/site-packages (from requests<3.0.0,>=2.28.1->nibiru) (2023.7.22)\r\n",
      "Requirement already satisfied: asn1crypto in /Users/onikonychev/Library/Caches/pypoetry/virtualenvs/nibiru-j2Omu5Jd-py3.8/lib/python3.8/site-packages (from coincurve<19,>=15.0->bip32<4.0,>=3.3->nibiru) (1.5.1)\r\n",
      "Requirement already satisfied: cffi>=1.3.0 in /Users/onikonychev/Library/Caches/pypoetry/virtualenvs/nibiru-j2Omu5Jd-py3.8/lib/python3.8/site-packages (from coincurve<19,>=15.0->bip32<4.0,>=3.3->nibiru) (1.16.0)\r\n",
      "Requirement already satisfied: setuptools in /Users/onikonychev/Library/Caches/pypoetry/virtualenvs/nibiru-j2Omu5Jd-py3.8/lib/python3.8/site-packages (from grpcio-tools<2.0.0,>=1.51.1->nibiru-proto==0.21.9->nibiru) (68.2.2)\r\n",
      "Requirement already satisfied: distlib<1,>=0.3.7 in /Users/onikonychev/Library/Caches/pypoetry/virtualenvs/nibiru-j2Omu5Jd-py3.8/lib/python3.8/site-packages (from virtualenv>=20.10.0->pre-commit<3.0.0,>=2.20.0->nibiru) (0.3.7)\r\n",
      "Requirement already satisfied: filelock<4,>=3.12.2 in /Users/onikonychev/Library/Caches/pypoetry/virtualenvs/nibiru-j2Omu5Jd-py3.8/lib/python3.8/site-packages (from virtualenv>=20.10.0->pre-commit<3.0.0,>=2.20.0->nibiru) (3.12.4)\r\n",
      "Requirement already satisfied: platformdirs<4,>=3.9.1 in /Users/onikonychev/Library/Caches/pypoetry/virtualenvs/nibiru-j2Omu5Jd-py3.8/lib/python3.8/site-packages (from virtualenv>=20.10.0->pre-commit<3.0.0,>=2.20.0->nibiru) (3.11.0)\r\n",
      "Requirement already satisfied: python-dateutil in /Users/onikonychev/Library/Caches/pypoetry/virtualenvs/nibiru-j2Omu5Jd-py3.8/lib/python3.8/site-packages (from croniter->aiocron<2.0,>=1.8->nibiru) (2.8.2)\r\n",
      "Requirement already satisfied: backports.zoneinfo in /Users/onikonychev/Library/Caches/pypoetry/virtualenvs/nibiru-j2Omu5Jd-py3.8/lib/python3.8/site-packages (from tzlocal->aiocron<2.0,>=1.8->nibiru) (0.2.1)\r\n",
      "Requirement already satisfied: pycparser in /Users/onikonychev/Library/Caches/pypoetry/virtualenvs/nibiru-j2Omu5Jd-py3.8/lib/python3.8/site-packages (from cffi>=1.3.0->coincurve<19,>=15.0->bip32<4.0,>=3.3->nibiru) (2.21)\r\n",
      "Installing collected packages: python-dotenv, packaging, importlib-metadata, pre-commit\r\n",
      "  Attempting uninstall: python-dotenv\r\n",
      "    Found existing installation: python-dotenv 1.0.0\r\n",
      "    Uninstalling python-dotenv-1.0.0:\r\n",
      "      Successfully uninstalled python-dotenv-1.0.0\r\n",
      "  Attempting uninstall: packaging\r\n",
      "    Found existing installation: packaging 23.2\r\n",
      "    Uninstalling packaging-23.2:\r\n",
      "      Successfully uninstalled packaging-23.2\r\n",
      "  Attempting uninstall: importlib-metadata\r\n",
      "    Found existing installation: importlib-metadata 6.8.0\r\n",
      "    Uninstalling importlib-metadata-6.8.0:\r\n",
      "      Successfully uninstalled importlib-metadata-6.8.0\r\n",
      "  Attempting uninstall: pre-commit\r\n",
      "    Found existing installation: pre-commit 3.4.0\r\n",
      "    Uninstalling pre-commit-3.4.0:\r\n",
      "      Successfully uninstalled pre-commit-3.4.0\r\n",
      "Successfully installed importlib-metadata-5.2.0 packaging-21.3 pre-commit-2.21.0 python-dotenv-0.21.1\r\n"
     ]
    }
   ],
   "source": [
    "import time\n",
    "!pip install nibiru"
   ],
   "metadata": {
    "collapsed": false
   }
  },
  {
   "cell_type": "markdown",
   "source": [
    "### 2. Create chain client and run queries\n",
    "Using testnet-3 (aka itn-3) endpoint run queries."
   ],
   "metadata": {
    "collapsed": false
   }
  },
  {
   "cell_type": "code",
   "execution_count": 58,
   "outputs": [],
   "source": [
    "import json\n",
    "from nibiru import Network, ChainClient, Msg, Coin, TxConfig\n",
    "from nibiru.exceptions import QueryError\n",
    "\n",
    "client = ChainClient(network=Network.testnet(3))"
   ],
   "metadata": {
    "collapsed": false
   }
  },
  {
   "cell_type": "code",
   "execution_count": 59,
   "outputs": [],
   "source": [
    "# Shortcut to print responses\n",
    "def print_json(obj):\n",
    "    print(json.dumps(obj, indent=2))"
   ],
   "metadata": {
    "collapsed": false
   }
  },
  {
   "cell_type": "code",
   "execution_count": 60,
   "outputs": [
    {
     "name": "stdout",
     "output_type": "stream",
     "text": [
      "{\n",
      "  \"startingPoolNumber\": \"1\",\n",
      "  \"poolCreationFee\": [\n",
      "    {\n",
      "      \"denom\": \"unibi\",\n",
      "      \"amount\": \"1000000000\"\n",
      "    }\n",
      "  ],\n",
      "  \"whitelistedAsset\": [\n",
      "    \"unibi\",\n",
      "    \"uusdc\",\n",
      "    \"unusd\",\n",
      "    \"uusdt\"\n",
      "  ]\n",
      "}\n"
     ]
    }
   ],
   "source": [
    "# Query spot params (fees and whitelisted assets)\n",
    "spot_params = client.query.spot.params()\n",
    "print_json(spot_params)"
   ],
   "metadata": {
    "collapsed": false
   }
  },
  {
   "cell_type": "code",
   "execution_count": 61,
   "outputs": [
    {
     "name": "stdout",
     "output_type": "stream",
     "text": [
      "[\n",
      "  {\n",
      "    \"id\": \"1\",\n",
      "    \"address\": \"nibi1w00c7pqkr5z7ptewg5z87j2ncvxd88w43ug679\",\n",
      "    \"poolParams\": {\n",
      "      \"swapFee\": \"10000000000000000\",\n",
      "      \"exitFee\": \"10000000000000000\",\n",
      "      \"A\": \"10\",\n",
      "      \"poolType\": \"STABLESWAP\"\n",
      "    },\n",
      "    \"poolAssets\": [\n",
      "      {\n",
      "        \"token\": {\n",
      "          \"denom\": \"unusd\",\n",
      "          \"amount\": \"343916448\"\n",
      "        },\n",
      "        \"weight\": \"1073741824\"\n",
      "      },\n",
      "      {\n",
      "        \"token\": {\n",
      "          \"denom\": \"uusdt\",\n",
      "          \"amount\": \"6745263529\"\n",
      "        },\n",
      "        \"weight\": \"1073741824\"\n",
      "      }\n",
      "    ],\n",
      "    \"totalWeight\": \"2147483648\",\n",
      "    \"totalShares\": {\n",
      "      \"denom\": \"nibiru/pool/1\",\n",
      "      \"amount\": \"311755152668458412094\"\n",
      "    }\n",
      "  },\n",
      "  {\n",
      "    \"id\": \"2\",\n",
      "    \"address\": \"nibi1vm70ju9n2laspspsh6fs2hu50z3qzf4m2emr0p\",\n",
      "    \"poolParams\": {\n",
      "      \"swapFee\": \"10000000000000000\",\n",
      "      \"exitFee\": \"10000000000000000\",\n",
      "      \"A\": \"0\"\n",
      "    },\n",
      "    \"poolAssets\": [\n",
      "      {\n",
      "        \"token\": {\n",
      "          \"denom\": \"unibi\",\n",
      "          \"amount\": \"443755190\"\n",
      "        },\n",
      "        \"weight\": \"1073741824\"\n",
      "      },\n",
      "      {\n",
      "        \"token\": {\n",
      "          \"denom\": \"unusd\",\n",
      "          \"amount\": \"3888678192\"\n",
      "        },\n",
      "        \"weight\": \"1073741824\"\n",
      "      }\n",
      "    ],\n",
      "    \"totalWeight\": \"2147483648\",\n",
      "    \"totalShares\": {\n",
      "      \"denom\": \"nibiru/pool/2\",\n",
      "      \"amount\": \"129868158890183413273\"\n",
      "    }\n",
      "  }\n",
      "]\n"
     ]
    }
   ],
   "source": [
    "# Query spot pools\n",
    "pools = client.query.spot.pools()\n",
    "print_json(pools)"
   ],
   "metadata": {
    "collapsed": false
   }
  },
  {
   "cell_type": "markdown",
   "source": [
    "### 3. Authenticate to run transactions\n",
    "Assuming you have your wallet mnemonic key (or private key) and some test tokens from the faucet.\n",
    "See: https://app.nibiru.fi/faucet"
   ],
   "metadata": {
    "collapsed": false
   }
  },
  {
   "cell_type": "code",
   "execution_count": 62,
   "outputs": [
    {
     "name": "stdout",
     "output_type": "stream",
     "text": [
      "[\n",
      "  {\n",
      "    \"denom\": \"nibiru/pool/1\",\n",
      "    \"amount\": 1012681954724\n",
      "  },\n",
      "  {\n",
      "    \"denom\": \"unibi\",\n",
      "    \"amount\": 99999933066444\n",
      "  },\n",
      "  {\n",
      "    \"denom\": \"unusd\",\n",
      "    \"amount\": 999999999999999692\n",
      "  },\n",
      "  {\n",
      "    \"denom\": \"uusdt\",\n",
      "    \"amount\": 10000000000000352\n",
      "  }\n",
      "]\n"
     ]
    }
   ],
   "source": [
    "mnemonic = \"exclude rural knife asset egg seminar carry control thought stock topic lens embark about huge obvious reason language ripple clean cousin library punch renew\"\n",
    "\n",
    "# Let's set high gas multiplier to avoid out of gas errors. Could be customized per tx.\n",
    "tx_config = TxConfig(gas_multiplier=5)\n",
    "client = ChainClient(Network.testnet(3), tx_config=tx_config)\n",
    "client.authenticate(mnemonic=mnemonic)\n",
    "\n",
    "# Balances check\n",
    "balances = client.query.get_bank_balances(client.address)\n",
    "print_json(balances[\"balances\"])"
   ],
   "metadata": {
    "collapsed": false
   }
  },
  {
   "cell_type": "markdown",
   "source": [
    "### 4. Run Spot transactions\n",
    "Swap tokens:"
   ],
   "metadata": {
    "collapsed": false
   }
  },
  {
   "cell_type": "code",
   "execution_count": 63,
   "outputs": [
    {
     "name": "stdout",
     "output_type": "stream",
     "text": [
      "tx response Code: 0\n",
      "[\n",
      "  {\n",
      "    \"denom\": \"nibiru/pool/1\",\n",
      "    \"amount\": 1012681954724\n",
      "  },\n",
      "  {\n",
      "    \"denom\": \"unibi\",\n",
      "    \"amount\": 99999932972226\n",
      "  },\n",
      "  {\n",
      "    \"denom\": \"unusd\",\n",
      "    \"amount\": 999999999999999682\n",
      "  },\n",
      "  {\n",
      "    \"denom\": \"uusdt\",\n",
      "    \"amount\": 10000000000000378\n",
      "  }\n",
      "]\n"
     ]
    }
   ],
   "source": [
    "pool_id = 1  # select the pool from the query above\n",
    "token_in = \"unusd\"  # check that token is in the pool\n",
    "token_out = \"uusdt\" # check that token is in the pool\n",
    "\n",
    "output = client.tx.execute_msgs(\n",
    "    Msg.spot.swap(\n",
    "        pool_id=pool_id,\n",
    "        token_in=Coin(10, token_in),\n",
    "        token_out_denom=token_out,\n",
    "    ),\n",
    "    wait_for_tx_resp=True,  # wait for block and get tx response\n",
    ")\n",
    "# Expected tx response code 0\n",
    "print(f\"tx response Code: {output['code']}\")\n",
    "if output[\"code\"] == 0:\n",
    "    balances = client.query.get_bank_balances(client.address)\n",
    "    print_json(balances[\"balances\"])"
   ],
   "metadata": {
    "collapsed": false
   }
  },
  {
   "cell_type": "markdown",
   "source": [
    "Join spot pool. After joining the pool you will have a pool shares in your balance with asset name like \"nibiru/pool/1\"."
   ],
   "metadata": {
    "collapsed": false
   }
  },
  {
   "cell_type": "code",
   "execution_count": 64,
   "outputs": [
    {
     "name": "stdout",
     "output_type": "stream",
     "text": [
      "tx response code: 0\n",
      "{\n",
      "  \"denom\": \"nibiru/pool/1\",\n",
      "  \"amount\": 2353780420866\n",
      "}\n"
     ]
    }
   ],
   "source": [
    "output = client.tx.execute_msgs(\n",
    "    Msg.spot.join_pool(\n",
    "        pool_id=pool_id,\n",
    "        tokens=[Coin(10, token_in), Coin(5, token_out)]\n",
    "    ),\n",
    "    wait_for_tx_resp=True,\n",
    ")\n",
    "# Expected tx response code 0\n",
    "print(f\"tx response code: {output['code']}\")\n",
    "if output[\"code\"] == 0:\n",
    "    balance = client.query.get_bank_balance(client.address, f\"nibiru/pool/{pool_id}\")\n",
    "    print_json(balance[\"balance\"])\n",
    "    total_shares_amount = balance[\"balance\"][\"amount\"]"
   ],
   "metadata": {
    "collapsed": false
   }
  },
  {
   "cell_type": "markdown",
   "source": [
    "Exit pool. Pool shares will disappear from balances list."
   ],
   "metadata": {
    "collapsed": false
   }
  },
  {
   "cell_type": "code",
   "execution_count": 65,
   "outputs": [
    {
     "name": "stdout",
     "output_type": "stream",
     "text": [
      "tx response code: 0\n",
      "[\n",
      "  {\n",
      "    \"denom\": \"unibi\",\n",
      "    \"amount\": 99999932733366\n",
      "  },\n",
      "  {\n",
      "    \"denom\": \"unusd\",\n",
      "    \"amount\": 999999999999999674\n",
      "  },\n",
      "  {\n",
      "    \"denom\": \"uusdt\",\n",
      "    \"amount\": 10000000000000423\n",
      "  }\n",
      "]\n"
     ]
    }
   ],
   "source": [
    "time.sleep(5)  # Sometimes it needs several seconds to allow pool exit\n",
    "output = client.tx.execute_msgs(\n",
    "    Msg.spot.exit_pool(\n",
    "        pool_id=pool_id,\n",
    "        pool_shares=Coin(total_shares_amount, f\"nibiru/pool/{pool_id}\")\n",
    "    ),\n",
    "    wait_for_tx_resp=True,\n",
    ")\n",
    "# Expected tx response code 0\n",
    "print(f\"tx response code: {output['code']}\")\n",
    "if output[\"code\"] == 0:\n",
    "    balances = client.query.get_bank_balances(client.address)\n",
    "    print_json(balances[\"balances\"])"
   ],
   "metadata": {
    "collapsed": false
   }
  }
 ],
 "metadata": {
  "kernelspec": {
   "display_name": "Python 3",
   "language": "python",
   "name": "python3"
  },
  "language_info": {
   "codemirror_mode": {
    "name": "ipython",
    "version": 2
   },
   "file_extension": ".py",
   "mimetype": "text/x-python",
   "name": "python",
   "nbconvert_exporter": "python",
   "pygments_lexer": "ipython2",
   "version": "2.7.6"
  }
 },
 "nbformat": 4,
 "nbformat_minor": 0
}
