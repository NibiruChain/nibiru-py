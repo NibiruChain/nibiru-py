{
 "cells": [
  {
   "cell_type": "markdown",
   "source": [
    "# Nibiru Spots (Swaps) Queries and Transactions\n",
    "Examples of executing asset swaps."
   ],
   "metadata": {
    "collapsed": false
   }
  },
  {
   "cell_type": "markdown",
   "source": [
    "### 1. Install Nibiru package"
   ],
   "metadata": {
    "collapsed": false
   }
  },
  {
   "cell_type": "code",
   "execution_count": null,
   "outputs": [],
   "source": [
    "!pip install nibiru"
   ],
   "metadata": {
    "collapsed": false
   }
  },
  {
   "cell_type": "markdown",
   "source": [
    "### 2. Create chain client and run queries\n",
    "Using testnet-3 (aka itn-3) endpoint run queries."
   ],
   "metadata": {
    "collapsed": false
   }
  },
  {
   "cell_type": "code",
   "execution_count": null,
   "outputs": [],
   "source": [
    "import json\n",
    "from nibiru import Network, ChainClient, Msg, Coin, TxConfig\n",
    "from nibiru.exceptions import QueryError\n",
    "\n",
    "client = ChainClient(network=Network.testnet(3))"
   ],
   "metadata": {
    "collapsed": false
   }
  },
  {
   "cell_type": "code",
   "execution_count": null,
   "outputs": [],
   "source": [
    "# Shortcut to print responses\n",
    "def print_json(obj):\n",
    "    print(json.dumps(obj, indent=2))"
   ],
   "metadata": {
    "collapsed": false
   }
  },
  {
   "cell_type": "code",
   "execution_count": null,
   "outputs": [],
   "source": [
    "# Query spot params (fees and whitelisted assets)\n",
    "spot_params = client.query.spot.params()\n",
    "print_json(spot_params)"
   ],
   "metadata": {
    "collapsed": false
   }
  },
  {
   "cell_type": "code",
   "execution_count": null,
   "outputs": [],
   "source": [
    "# Query spot pools\n",
    "pools = client.query.spot.pools()\n",
    "print_json(pools)"
   ],
   "metadata": {
    "collapsed": false
   }
  },
  {
   "cell_type": "markdown",
   "source": [
    "### 3. Authenticate to run transactions\n",
    "Assuming you have your wallet mnemonic key (or private key) and some test tokens from the faucet.\n",
    "See: https://app.nibiru.fi/faucet"
   ],
   "metadata": {
    "collapsed": false
   }
  },
  {
   "cell_type": "code",
   "execution_count": null,
   "outputs": [],
   "source": [
    "mnemonic = \"put your mnemonic here...\"\n",
    "\n",
    "# Let's set high gas multiplier to avoid out of gas errors. Could be customized per tx.\n",
    "tx_config = TxConfig(gas_multiplier=5)\n",
    "client = ChainClient(Network.testnet(3), tx_config=tx_config)\n",
    "client.authenticate(mnemonic=mnemonic)\n",
    "\n",
    "# Balances check\n",
    "balances = client.query.get_bank_balances(client.address)\n",
    "print_json(balances[\"balances\"])"
   ],
   "metadata": {
    "collapsed": false
   }
  },
  {
   "cell_type": "markdown",
   "source": [
    "### 4. Run Spot transactions\n",
    "Swap tokens:"
   ],
   "metadata": {
    "collapsed": false
   }
  },
  {
   "cell_type": "code",
   "execution_count": null,
   "outputs": [],
   "source": [
    "pool_id = 1  # select the pool from the query above\n",
    "token_in = \"unusd\"  # check that token is in the pool\n",
    "token_out = \"uusdt\" # check that token is in the pool\n",
    "\n",
    "output = client.tx.execute_msgs(\n",
    "    Msg.spot.swap(\n",
    "        pool_id=pool_id,\n",
    "        token_in=Coin(10, token_in),\n",
    "        token_out_denom=token_out,\n",
    "    ),\n",
    "    wait_for_tx_resp=True,  # wait for block and get tx response\n",
    ")\n",
    "# Expected tx response code 0\n",
    "print(f\"tx response Code: {output['code']}\")\n",
    "if output[\"code\"] == 0:\n",
    "    balances = client.query.get_bank_balances(client.address)\n",
    "    print_json(balances[\"balances\"])"
   ],
   "metadata": {
    "collapsed": false
   }
  },
  {
   "cell_type": "markdown",
   "source": [
    "Join spot pool. After joining the pool you will have a pool shares in your balance with asset name like \"nibiru/pool/1\"."
   ],
   "metadata": {
    "collapsed": false
   }
  },
  {
   "cell_type": "code",
   "execution_count": null,
   "outputs": [],
   "source": [
    "output = client.tx.execute_msgs(\n",
    "    Msg.spot.join_pool(\n",
    "        pool_id=pool_id,\n",
    "        tokens=[Coin(10, token_in), Coin(5, token_out)]\n",
    "    ),\n",
    "    wait_for_tx_resp=True,\n",
    ")\n",
    "# Expected tx response code 0\n",
    "print(f\"tx response code: {output['code']}\")\n",
    "if output[\"code\"] == 0:\n",
    "    balance = client.query.get_bank_balance(client.address, f\"nibiru/pool/{pool_id}\")\n",
    "    print_json(balance[\"balance\"])\n",
    "    total_shares_amount = balance[\"balance\"][\"amount\"]"
   ],
   "metadata": {
    "collapsed": false
   }
  },
  {
   "cell_type": "markdown",
   "source": [
    "Exit pool. Pool shares will disappear from balances list."
   ],
   "metadata": {
    "collapsed": false
   }
  },
  {
   "cell_type": "code",
   "execution_count": null,
   "outputs": [],
   "source": [
    "output = client.tx.execute_msgs(\n",
    "    Msg.spot.exit_pool(\n",
    "        pool_id=pool_id,\n",
    "        pool_shares=Coin(total_shares_amount, f\"nibiru/pool/{pool_id}\")\n",
    "    ),\n",
    "    wait_for_tx_resp=True,\n",
    ")\n",
    "# Expected tx response code 0\n",
    "print(f\"tx response code: {output['code']}\")\n",
    "if output[\"code\"] == 0:\n",
    "    balances = client.query.get_bank_balances(client.address)\n",
    "    print_json(balances[\"balances\"])"
   ],
   "metadata": {
    "collapsed": false
   }
  }
 ],
 "metadata": {
  "kernelspec": {
   "display_name": "Python 3",
   "language": "python",
   "name": "python3"
  },
  "language_info": {
   "codemirror_mode": {
    "name": "ipython",
    "version": 2
   },
   "file_extension": ".py",
   "mimetype": "text/x-python",
   "name": "python",
   "nbconvert_exporter": "python",
   "pygments_lexer": "ipython2",
   "version": "2.7.6"
  }
 },
 "nbformat": 4,
 "nbformat_minor": 0
}
