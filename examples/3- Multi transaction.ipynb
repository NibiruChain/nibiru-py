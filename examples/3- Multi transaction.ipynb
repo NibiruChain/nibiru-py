{
 "cells": [
  {
   "cell_type": "code",
   "execution_count": null,
   "metadata": {},
   "outputs": [],
   "source": [
    "import nibiru\n",
    "import nibiru.common # Common values and types to run\n",
    "import nibiru.msg # Messages package for transactions\n",
    "import json\n",
    "from datetime import datetime, timedelta\n",
    "import time"
   ]
  },
  {
   "cell_type": "code",
   "execution_count": null,
   "metadata": {},
   "outputs": [],
   "source": [
    "nibiru.__version__ # 0.3.2 is compatible with nibiru chain v0.14"
   ]
  },
  {
   "cell_type": "code",
   "execution_count": null,
   "metadata": {},
   "outputs": [],
   "source": [
    "host = \"localhost\"\n",
    "\n",
    "network = nibiru.Network(\n",
    "    lcd_endpoint=f'http://{host}:1317',\n",
    "    grpc_endpoint=f'{host}:9090',\n",
    "    chain_id='nibiru-localnet-0',\n",
    "    fee_denom='unibi',\n",
    "    env='local',\n",
    ")"
   ]
  },
  {
   "cell_type": "code",
   "execution_count": null,
   "metadata": {},
   "outputs": [],
   "source": [
    "VALIDATOR_MNEMONIC=\"guard cream sadness conduct invite crumble clock pudding hole grit liar hotel maid produce squeeze return argue turtle know drive eight casino maze host\""
   ]
  },
  {
   "cell_type": "code",
   "execution_count": null,
   "metadata": {},
   "outputs": [],
   "source": [
    "tx_config = nibiru.TxConfig(tx_type=nibiru.common.TxType.BLOCK)\n",
    "\n",
    "validator = (\n",
    "    nibiru.Sdk\n",
    "        .authorize(VALIDATOR_MNEMONIC) # This allows us to recover the wallet with a mnemonic\n",
    "        .with_network(network, insecure=True)\n",
    "        .with_config(tx_config)\n",
    ")"
   ]
  },
  {
   "cell_type": "markdown",
   "metadata": {},
   "source": [
    "The validator is allowed to post prices as it was whitelisted in the setup of the localent. Let's post mulitple prices"
   ]
  },
  {
   "cell_type": "code",
   "execution_count": null,
   "metadata": {},
   "outputs": [],
   "source": [
    "prices_to_post = [\n",
    "    nibiru.msg.MsgPostPrice(\n",
    "                validator.address,\n",
    "                token0=\"unibi\",\n",
    "                token1=\"unusd\",\n",
    "                price=10,\n",
    "                expiry=datetime.utcnow() + timedelta(hours=1),  # Price expired\n",
    "            ),\n",
    "    nibiru.msg.MsgPostPrice(\n",
    "                validator.address,\n",
    "                token0=\"ubtc\",\n",
    "                token1=\"unusd\",\n",
    "                price=20000,\n",
    "                expiry=datetime.utcnow() + timedelta(hours=1),  # Price expired\n",
    "            )\n",
    "]"
   ]
  },
  {
   "cell_type": "markdown",
   "metadata": {},
   "source": [
    "Both of these message can be packed into a single transaction and sent to the chain with the same command we saw before"
   ]
  },
  {
   "cell_type": "code",
   "execution_count": null,
   "metadata": {},
   "outputs": [],
   "source": [
    "tx_output = validator.tx.execute_msgs(prices_to_post)"
   ]
  },
  {
   "cell_type": "code",
   "execution_count": null,
   "metadata": {},
   "outputs": [],
   "source": [
    "# Let's wait a few block for prices to be processed\n",
    "time.sleep(5)"
   ]
  },
  {
   "cell_type": "code",
   "execution_count": null,
   "metadata": {},
   "outputs": [],
   "source": [
    "validator.query.pricefeed.price(\"ubtc:unusd\")"
   ]
  },
  {
   "cell_type": "code",
   "execution_count": null,
   "metadata": {},
   "outputs": [],
   "source": [
    "validator.query.pricefeed.price(\"unibi:unusd\")"
   ]
  }
 ],
 "metadata": {
  "kernelspec": {
   "display_name": "Python 3.10.4 ('nibi')",
   "language": "python",
   "name": "python3"
  },
  "language_info": {
   "codemirror_mode": {
    "name": "ipython",
    "version": 3
   },
   "file_extension": ".py",
   "mimetype": "text/x-python",
   "name": "python",
   "nbconvert_exporter": "python",
   "pygments_lexer": "ipython3",
   "version": "3.10.4"
  },
  "orig_nbformat": 4,
  "vscode": {
   "interpreter": {
    "hash": "23c82724f6800107d27a1bc097df076b7f523b299f39e774e7f2b8b0c7154a18"
   }
  }
 },
 "nbformat": 4,
 "nbformat_minor": 2
}
