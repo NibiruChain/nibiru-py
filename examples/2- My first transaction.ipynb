{
 "cells": [
  {
   "cell_type": "code",
   "execution_count": 1,
   "metadata": {},
   "outputs": [],
   "source": [
    "import json\n",
    "import nibiru\n",
    "from nibiru import Network, ChainClient, Msg, PrivateKey"
   ]
  },
  {
   "cell_type": "code",
   "execution_count": 2,
   "metadata": {},
   "outputs": [
    {
     "data": {
      "text/plain": "'0.21.9'"
     },
     "execution_count": 2,
     "metadata": {},
     "output_type": "execute_result"
    }
   ],
   "source": [
    "nibiru.__version__"
   ]
  },
  {
   "cell_type": "markdown",
   "metadata": {},
   "source": [
    "## Create a wallet and get test tokens from faucet"
   ]
  },
  {
   "cell_type": "markdown",
   "source": [
    "To create a new wallet, generate a mnemonic key using any service or using SDK call:"
   ],
   "metadata": {
    "collapsed": false
   }
  },
  {
   "cell_type": "code",
   "execution_count": 28,
   "outputs": [
    {
     "name": "stdout",
     "output_type": "stream",
     "text": [
      "keep nephew flat tiger diagram coconut fitness human senior fall vicious eager patient bundle garment wall risk harvest rice lizard dry news height whale\n",
      "nibi1uzc5a7e9qyy9wd4cc0mevv2007n4sfgp2fmy4x\n"
     ]
    }
   ],
   "source": [
    "mnemonic, private_key = PrivateKey.generate()\n",
    "print(mnemonic)\n",
    "# Example OUTPUT:\n",
    "# enlist satisfy inspire hobby romance caught great neither kitchen unfair cage awesome update fade object eagle sun ordinary again journey spell gown tiger spin\n",
    "\n",
    "# Your wallet address\n",
    "print(private_key.to_public_key().to_address().to_acc_bech32())"
   ],
   "metadata": {
    "collapsed": false
   }
  },
  {
   "cell_type": "markdown",
   "source": [
    "Store your mnemonic key in a safe place and use it going forward.\n",
    "Use faucet to get some test tokens into your wallet: https://app.nibiru.fi/faucet"
   ],
   "metadata": {
    "collapsed": false
   }
  },
  {
   "cell_type": "markdown",
   "source": [
    "Сreate your chain client and authenticate with the mnemoniс generated"
   ],
   "metadata": {
    "collapsed": false
   }
  },
  {
   "cell_type": "code",
   "execution_count": 14,
   "outputs": [
    {
     "name": "stdout",
     "output_type": "stream",
     "text": [
      "nibi1efsh4dq3ve58dgu68rxp8cfe4mgf89el0qfucm\n"
     ]
    }
   ],
   "source": [
    "mnemonic = \"put your mnemonic here...\"\n",
    "client = ChainClient(network=Network.testnet(2))\n",
    "client.authenticate(mnemonic=mnemonic)\n",
    "print(client.address)"
   ],
   "metadata": {
    "collapsed": false
   }
  },
  {
   "cell_type": "markdown",
   "source": [
    "Check your bank balances. If the faucet succeded - your wallet should not be empty."
   ],
   "metadata": {
    "collapsed": false
   }
  },
  {
   "cell_type": "code",
   "execution_count": 15,
   "outputs": [
    {
     "name": "stdout",
     "output_type": "stream",
     "text": [
      "{'balances': [{'denom': 'unibi', 'amount': 9798194}, {'denom': 'unusd', 'amount': 10029990}], 'pagination': {'next_key': b'', 'total': 2}}\n"
     ]
    }
   ],
   "source": [
    "print(client.query.get_bank_balances(client.address))"
   ],
   "metadata": {
    "collapsed": false
   }
  },
  {
   "cell_type": "code",
   "execution_count": 16,
   "metadata": {},
   "outputs": [],
   "source": [
    "pair = \"ubtc:unusd\""
   ]
  },
  {
   "cell_type": "code",
   "execution_count": 17,
   "metadata": {},
   "outputs": [
    {
     "name": "stdout",
     "output_type": "stream",
     "text": [
      "ExecuteTxResp(code=0, tx_hash='A2E9935BC06C360209FA7A9760F0CF54FA0A9DE0CAB6AF2D8687886E7A5F613F', log='[]')\n"
     ]
    }
   ],
   "source": [
    "output = client.tx.execute_msgs(\n",
    "    Msg.perp.open_position(\n",
    "        sender=client.address,\n",
    "        pair=pair,\n",
    "        is_long=True,\n",
    "        quote_asset_amount=10,\n",
    "        leverage=1,\n",
    "        base_asset_amount_limit=0,\n",
    "    )\n",
    ")\n",
    "print(output)"
   ]
  },
  {
   "cell_type": "markdown",
   "source": [
    "If your TX has succeeded, you should get output something like:\n",
    "\n",
    "`ExecuteTxResp(code=0, tx_hash='A2E9935BC06C360209FA7A9760F0CF54FA0A9DE0CAB6AF2D8687886E7A5F613F', log='[]')`\n",
    "\n",
    "Query your TX hash to get TX details:"
   ],
   "metadata": {
    "collapsed": false
   }
  },
  {
   "cell_type": "code",
   "execution_count": 20,
   "metadata": {},
   "outputs": [
    {
     "name": "stdout",
     "output_type": "stream",
     "text": [
      "{'tx': {'body': {'messages': [{'type_url': '/nibiru.perp.v2.MsgMarketOrder', 'value': [10, 43, 110, 105, 98, 105, 49, 101, 102, 115, 104, 52, 100, 113, 51, 118, 101, 53, 56, 100, 103, 117, 54, 56, 114, 120, 112, 56, 99, 102, 101, 52, 109, 103, 102, 56, 57, 101, 108, 48, 113, 102, 117, 99, 109, 18, 10, 117, 98, 116, 99, 58, 117, 110, 117, 115, 100, 24, 1, 34, 2, 49, 48, 42, 19, 49, 48, 48, 48, 48, 48, 48, 48, 48, 48, 48, 48, 48, 48, 48, 48, 48, 48, 48, 50, 1, 48]}], 'memo': '', 'timeout_height': 901666, 'extension_options': [], 'non_critical_extension_options': []}, 'auth_info': {'signer_infos': [{'public_key': {'type_url': '/cosmos.crypto.secp256k1.PubKey', 'value': [10, 33, 3, 79, 37, 36, 190, 111, 229, 221, 10, 237, 169, 134, 28, 152, 125, 156, 144, 164, 177, 44, 121, 154, 200, 150, 242, 93, 244, 3, 79, 248, 239, 238, 228]}, 'mode_info': {'single': {'mode': 1}, 'multi': {'bitarray': {'extra_bits_stored': 0, 'elems': b''}, 'mode_infos': []}}, 'sequence': 2}], 'fee': {'amount': [{'denom': 'unibi', 'amount': 252063}], 'gas_limit': 1008253, 'payer': '', 'granter': ''}, 'tip': {'amount': [], 'tipper': ''}}, 'signatures': [b'\\xc3\\x19\\x98r\\xb7A\\xef\\x80\\x05\\xd7~\\xc6Z\\xb4/Eo\\x10\\x86\\xfeT\\xcfU\\xe0L\\xcb\\xb1\\x08\\xda\\xe1UZ;\\x9b\\xdf\\\\\\xb9\\xde\\xcaf\\xd8\\xe0\"\\x8c\\xd0S\\xaf\\x0f\\xd1+:\\xaf\\xb6\\xea\\x18%\\xcf=\\xdb\\x1b\\xcep,\\x91']}, 'tx_response': {'height': 901648, 'txhash': 'A2E9935BC06C360209FA7A9760F0CF54FA0A9DE0CAB6AF2D8687886E7A5F613F', 'codespace': '', 'code': 0, 'data': '12AA020A262F6E69626972752E706572702E76322E4D73674D61726B65744F72646572526573706F6E736512FF010A93010A2B6E69626931656673683464713376653538646775363872787038636665346D67663839656C30716675636D120A756274633A756E7573641A0F333835353835373639383634333533221432303038383239363436373737363534323436322A14313030383832393634363737373635343234363232172D3230323537303032353835343230333434323831323038908437121431303030303030303030303030303030303030301A0F3338323230383230323235383835352201302A0130320E37333336373937303939383838363A14313030303030303030303030303030303030303042143130303838333639383335373437353431333438', 'raw_log': '[{\"msg_index\":0,\"events\":[{\"type\":\"message\",\"attributes\":[{\"key\":\"action\",\"value\":\"/nibiru.perp.v2.MsgMarketOrder\"},{\"key\":\"sender\",\"value\":\"nibi1efsh4dq3ve58dgu68rxp8cfe4mgf89el0qfucm\"},{\"key\":\"module\",\"value\":\"perp\"}]},{\"type\":\"coin_spent\",\"attributes\":[{\"key\":\"spender\",\"value\":\"nibi1efsh4dq3ve58dgu68rxp8cfe4mgf89el0qfucm\"},{\"key\":\"amount\",\"value\":\"10unusd\"}]},{\"type\":\"coin_received\",\"attributes\":[{\"key\":\"receiver\",\"value\":\"nibi1umc2r7a58jy3jmw0e0hctyy0rx45chmurptawl\"},{\"key\":\"amount\",\"value\":\"10unusd\"}]},{\"type\":\"transfer\",\"attributes\":[{\"key\":\"recipient\",\"value\":\"nibi1umc2r7a58jy3jmw0e0hctyy0rx45chmurptawl\"},{\"key\":\"sender\",\"value\":\"nibi1efsh4dq3ve58dgu68rxp8cfe4mgf89el0qfucm\"},{\"key\":\"amount\",\"value\":\"10unusd\"}]},{\"type\":\"message\",\"attributes\":[{\"key\":\"sender\",\"value\":\"nibi1efsh4dq3ve58dgu68rxp8cfe4mgf89el0qfucm\"}]},{\"type\":\"nibiru.perp.v2.PositionChangedEvent\",\"attributes\":[{\"key\":\"bad_debt\",\"value\":\"{\\\\\"denom\\\\\":\\\\\"unusd\\\\\",\\\\\"amount\\\\\":\\\\\"0\\\\\"}\"},{\"key\":\"block_height\",\"value\":\"\\\\\"901648\\\\\"\"},{\"key\":\"change_reason\",\"value\":\"\\\\\"market_order\\\\\"\"},{\"key\":\"exchanged_notional\",\"value\":\"\\\\\"10.000073367970998886\\\\\"\"},{\"key\":\"exchanged_size\",\"value\":\"\\\\\"0.000382208202258855\\\\\"\"},{\"key\":\"final_position\",\"value\":\"{\\\\\"trader_address\\\\\":\\\\\"nibi1efsh4dq3ve58dgu68rxp8cfe4mgf89el0qfucm\\\\\",\\\\\"pair\\\\\":\\\\\"ubtc:unusd\\\\\",\\\\\"size\\\\\":\\\\\"0.000385585769864353\\\\\",\\\\\"margin\\\\\":\\\\\"20.088296467776542462\\\\\",\\\\\"open_notional\\\\\":\\\\\"10.088296467776542462\\\\\",\\\\\"latest_cumulative_premium_fraction\\\\\":\\\\\"-2025.700258542034428120\\\\\",\\\\\"last_updated_block_number\\\\\":\\\\\"901648\\\\\"}\"},{\"key\":\"funding_payment\",\"value\":\"\\\\\"0.000000000000000000\\\\\"\"},{\"key\":\"margin_to_user\",\"value\":\"\\\\\"-10\\\\\"\"},{\"key\":\"position_notional\",\"value\":\"\\\\\"10.088369835747541348\\\\\"\"},{\"key\":\"realized_pnl\",\"value\":\"\\\\\"0.000000000000000000\\\\\"\"},{\"key\":\"transaction_fee\",\"value\":\"{\\\\\"denom\\\\\":\\\\\"unusd\\\\\",\\\\\"amount\\\\\":\\\\\"0\\\\\"}\"}]}]}]', 'logs': [{'msg_index': 0, 'log': '', 'events': [{'type': 'message', 'attributes': [{'key': 'action', 'value': '/nibiru.perp.v2.MsgMarketOrder'}, {'key': 'sender', 'value': 'nibi1efsh4dq3ve58dgu68rxp8cfe4mgf89el0qfucm'}, {'key': 'module', 'value': 'perp'}]}, {'type': 'coin_spent', 'attributes': [{'key': 'spender', 'value': 'nibi1efsh4dq3ve58dgu68rxp8cfe4mgf89el0qfucm'}, {'key': 'amount', 'value': '10unusd'}]}, {'type': 'coin_received', 'attributes': [{'key': 'receiver', 'value': 'nibi1umc2r7a58jy3jmw0e0hctyy0rx45chmurptawl'}, {'key': 'amount', 'value': '10unusd'}]}, {'type': 'transfer', 'attributes': [{'key': 'recipient', 'value': 'nibi1umc2r7a58jy3jmw0e0hctyy0rx45chmurptawl'}, {'key': 'sender', 'value': 'nibi1efsh4dq3ve58dgu68rxp8cfe4mgf89el0qfucm'}, {'key': 'amount', 'value': '10unusd'}]}, {'type': 'message', 'attributes': [{'key': 'sender', 'value': 'nibi1efsh4dq3ve58dgu68rxp8cfe4mgf89el0qfucm'}]}, {'type': 'nibiru.perp.v2.PositionChangedEvent', 'attributes': [{'key': 'bad_debt', 'value': '{\"denom\":\"unusd\",\"amount\":\"0\"}'}, {'key': 'block_height', 'value': '\"901648\"'}, {'key': 'change_reason', 'value': '\"market_order\"'}, {'key': 'exchanged_notional', 'value': '\"10.000073367970998886\"'}, {'key': 'exchanged_size', 'value': '\"0.000382208202258855\"'}, {'key': 'final_position', 'value': '{\"trader_address\":\"nibi1efsh4dq3ve58dgu68rxp8cfe4mgf89el0qfucm\",\"pair\":\"ubtc:unusd\",\"size\":\"0.000385585769864353\",\"margin\":\"20.088296467776542462\",\"open_notional\":\"10.088296467776542462\",\"latest_cumulative_premium_fraction\":\"-2025.700258542034428120\",\"last_updated_block_number\":\"901648\"}'}, {'key': 'funding_payment', 'value': '\"0.000000000000000000\"'}, {'key': 'margin_to_user', 'value': '\"-10\"'}, {'key': 'position_notional', 'value': '\"10.088369835747541348\"'}, {'key': 'realized_pnl', 'value': '\"0.000000000000000000\"'}, {'key': 'transaction_fee', 'value': '{\"denom\":\"unusd\",\"amount\":\"0\"}'}]}]}], 'info': '', 'gas_wanted': 1008253, 'gas_used': 826450, 'tx': {'type_url': '/cosmos.tx.v1beta1.Tx', 'value': [10, 127, 10, 121, 10, 30, 47, 110, 105, 98, 105, 114, 117, 46, 112, 101, 114, 112, 46, 118, 50, 46, 77, 115, 103, 77, 97, 114, 107, 101, 116, 79, 114, 100, 101, 114, 18, 87, 10, 43, 110, 105, 98, 105, 49, 101, 102, 115, 104, 52, 100, 113, 51, 118, 101, 53, 56, 100, 103, 117, 54, 56, 114, 120, 112, 56, 99, 102, 101, 52, 109, 103, 102, 56, 57, 101, 108, 48, 113, 102, 117, 99, 109, 18, 10, 117, 98, 116, 99, 58, 117, 110, 117, 115, 100, 24, 1, 34, 2, 49, 48, 42, 19, 49, 48, 48, 48, 48, 48, 48, 48, 48, 48, 48, 48, 48, 48, 48, 48, 48, 48, 48, 50, 1, 48, 24, 162, 132, 55, 18, 105, 10, 80, 10, 70, 10, 31, 47, 99, 111, 115, 109, 111, 115, 46, 99, 114, 121, 112, 116, 111, 46, 115, 101, 99, 112, 50, 53, 54, 107, 49, 46, 80, 117, 98, 75, 101, 121, 18, 35, 10, 33, 3, 79, 37, 36, 190, 111, 229, 221, 10, 237, 169, 134, 28, 152, 125, 156, 144, 164, 177, 44, 121, 154, 200, 150, 242, 93, 244, 3, 79, 248, 239, 238, 228, 18, 4, 10, 2, 8, 1, 24, 2, 18, 21, 10, 15, 10, 5, 117, 110, 105, 98, 105, 18, 6, 50, 53, 50, 48, 54, 51, 16, 253, 196, 61, 26, 64, 195, 25, 152, 114, 183, 65, 239, 128, 5, 215, 126, 198, 90, 180, 47, 69, 111, 16, 134, 254, 84, 207, 85, 224, 76, 203, 177, 8, 218, 225, 85, 90, 59, 155, 223, 92, 185, 222, 202, 102, 216, 224, 34, 140, 208, 83, 175, 15, 209, 43, 58, 175, 182, 234, 24, 37, 207, 61, 219, 27, 206, 112, 44, 145]}, 'timestamp': '2023-09-25T14:09:40Z', 'events': [{'type': 'coin_spent', 'attributes': [{'key': 'spender', 'value': 'nibi1efsh4dq3ve58dgu68rxp8cfe4mgf89el0qfucm', 'index': True}, {'key': 'amount', 'value': '252063unibi', 'index': True}]}, {'type': 'coin_received', 'attributes': [{'key': 'receiver', 'value': 'nibi17xpfvakm2amg962yls6f84z3kell8c5l8u8ezw', 'index': True}, {'key': 'amount', 'value': '252063unibi', 'index': True}]}, {'type': 'transfer', 'attributes': [{'key': 'recipient', 'value': 'nibi17xpfvakm2amg962yls6f84z3kell8c5l8u8ezw', 'index': True}, {'key': 'sender', 'value': 'nibi1efsh4dq3ve58dgu68rxp8cfe4mgf89el0qfucm', 'index': True}, {'key': 'amount', 'value': '252063unibi', 'index': True}]}, {'type': 'message', 'attributes': [{'key': 'sender', 'value': 'nibi1efsh4dq3ve58dgu68rxp8cfe4mgf89el0qfucm', 'index': True}]}, {'type': 'tx', 'attributes': [{'key': 'fee', 'value': '252063unibi', 'index': True}, {'key': 'fee_payer', 'value': 'nibi1efsh4dq3ve58dgu68rxp8cfe4mgf89el0qfucm', 'index': True}]}, {'type': 'tx', 'attributes': [{'key': 'acc_seq', 'value': 'nibi1efsh4dq3ve58dgu68rxp8cfe4mgf89el0qfucm/2', 'index': True}]}, {'type': 'tx', 'attributes': [{'key': 'signature', 'value': 'wxmYcrdB74AF137GWrQvRW8Qhv5Uz1XgTMuxCNrhVVo7m99cud7KZtjgIozQU68P0Ss6r7bqGCXPPdsbznAskQ==', 'index': True}]}, {'type': 'message', 'attributes': [{'key': 'action', 'value': '/nibiru.perp.v2.MsgMarketOrder', 'index': True}, {'key': 'sender', 'value': 'nibi1efsh4dq3ve58dgu68rxp8cfe4mgf89el0qfucm', 'index': True}, {'key': 'module', 'value': 'perp', 'index': True}]}, {'type': 'coin_spent', 'attributes': [{'key': 'spender', 'value': 'nibi1efsh4dq3ve58dgu68rxp8cfe4mgf89el0qfucm', 'index': True}, {'key': 'amount', 'value': '10unusd', 'index': True}]}, {'type': 'coin_received', 'attributes': [{'key': 'receiver', 'value': 'nibi1umc2r7a58jy3jmw0e0hctyy0rx45chmurptawl', 'index': True}, {'key': 'amount', 'value': '10unusd', 'index': True}]}, {'type': 'transfer', 'attributes': [{'key': 'recipient', 'value': 'nibi1umc2r7a58jy3jmw0e0hctyy0rx45chmurptawl', 'index': True}, {'key': 'sender', 'value': 'nibi1efsh4dq3ve58dgu68rxp8cfe4mgf89el0qfucm', 'index': True}, {'key': 'amount', 'value': '10unusd', 'index': True}]}, {'type': 'message', 'attributes': [{'key': 'sender', 'value': 'nibi1efsh4dq3ve58dgu68rxp8cfe4mgf89el0qfucm', 'index': True}]}, {'type': 'nibiru.perp.v2.PositionChangedEvent', 'attributes': [{'key': 'bad_debt', 'value': '{\"denom\":\"unusd\",\"amount\":\"0\"}', 'index': True}, {'key': 'block_height', 'value': '\"901648\"', 'index': True}, {'key': 'change_reason', 'value': '\"market_order\"', 'index': True}, {'key': 'exchanged_notional', 'value': '\"10.000073367970998886\"', 'index': True}, {'key': 'exchanged_size', 'value': '\"0.000382208202258855\"', 'index': True}, {'key': 'final_position', 'value': '{\"trader_address\":\"nibi1efsh4dq3ve58dgu68rxp8cfe4mgf89el0qfucm\",\"pair\":\"ubtc:unusd\",\"size\":\"0.000385585769864353\",\"margin\":\"20.088296467776542462\",\"open_notional\":\"10.088296467776542462\",\"latest_cumulative_premium_fraction\":\"-2025.700258542034428120\",\"last_updated_block_number\":\"901648\"}', 'index': True}, {'key': 'funding_payment', 'value': '\"0.000000000000000000\"', 'index': True}, {'key': 'margin_to_user', 'value': '\"-10\"', 'index': True}, {'key': 'position_notional', 'value': '\"10.088369835747541348\"', 'index': True}, {'key': 'realized_pnl', 'value': '\"0.000000000000000000\"', 'index': True}, {'key': 'transaction_fee', 'value': '{\"denom\":\"unusd\",\"amount\":\"0\"}', 'index': True}]}]}}\n"
     ]
    }
   ],
   "source": [
    "output = client.query.tx_by_hash(\"A2E9935BC06C360209FA7A9760F0CF54FA0A9DE0CAB6AF2D8687886E7A5F613F\")\n",
    "print(output)"
   ]
  },
  {
   "cell_type": "markdown",
   "source": [
    "Or directly query the state of your position:"
   ],
   "metadata": {
    "collapsed": false
   }
  },
  {
   "cell_type": "code",
   "execution_count": 23,
   "metadata": {},
   "outputs": [
    {
     "name": "stdout",
     "output_type": "stream",
     "text": [
      "{\n",
      "    \"position\": {\n",
      "        \"trader_address\": \"nibi1efsh4dq3ve58dgu68rxp8cfe4mgf89el0qfucm\",\n",
      "        \"pair\": \"ubtc:unusd\",\n",
      "        \"size\": 0.000385585769864353,\n",
      "        \"margin\": 20.08829646777654,\n",
      "        \"open_notional\": 10.088296467776543,\n",
      "        \"latest_cumulative_premium_fraction\": -2025.7002585420344,\n",
      "        \"last_updated_block_number\": 901648\n",
      "    },\n",
      "    \"position_notional\": 10.093276201043262,\n",
      "    \"unrealized_pnl\": 0.004979733266718764,\n",
      "    \"margin_ratio\": 1.990758580347418\n",
      "}\n"
     ]
    }
   ],
   "source": [
    "position = client.query.perp.position(pair, client.address)\n",
    "print(json.dumps(position, indent=4))"
   ]
  },
  {
   "cell_type": "markdown",
   "metadata": {},
   "source": [
    "We can now query the balance of the trader address using the query we saw in the previous notebook"
   ]
  },
  {
   "cell_type": "markdown",
   "metadata": {},
   "source": [
    "Documentation for msgs can be found there: https://nibiru-py.readthedocs.io/en/latest/nibiru.msg.html"
   ]
  }
 ],
 "metadata": {
  "kernelspec": {
   "display_name": "Python 3.10.4 ('nibi')",
   "language": "python",
   "name": "python3"
  },
  "language_info": {
   "codemirror_mode": {
    "name": "ipython",
    "version": 3
   },
   "file_extension": ".py",
   "mimetype": "text/x-python",
   "name": "python",
   "nbconvert_exporter": "python",
   "pygments_lexer": "ipython3",
   "version": "3.10.4"
  },
  "orig_nbformat": 4,
  "vscode": {
   "interpreter": {
    "hash": "23c82724f6800107d27a1bc097df076b7f523b299f39e774e7f2b8b0c7154a18"
   }
  }
 },
 "nbformat": 4,
 "nbformat_minor": 2
}
