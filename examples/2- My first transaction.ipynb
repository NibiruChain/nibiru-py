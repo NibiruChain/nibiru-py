{
    "cells": [
        {
            "cell_type": "code",
            "execution_count": null,
            "metadata": {},
            "outputs": [],
            "source": [
                "import nibiru\n",
                "import nibiru.msg # Messages package for transactions\n",
                "import json"
            ]
        },
        {
            "cell_type": "code",
            "execution_count": null,
            "metadata": {},
            "outputs": [],
            "source": [
                "nibiru.__version__ # 0.16.0 is compatible with nibiru chain v0.16"
            ]
        },
        {
            "cell_type": "code",
            "execution_count": null,
            "metadata": {},
            "outputs": [],
            "source": [
                "network = nibiru.Network.customnet()"
            ]
        },
        {
            "cell_type": "markdown",
            "metadata": {},
            "source": [
                "# Transaction types"
            ]
        },
        {
            "cell_type": "markdown",
            "metadata": {},
            "source": [
                "There are 3 ways to post transactions with the python Sdk, having to do with the synchronization needed by the user.\n",
                "\n",
                "```python\n",
                "class TxType(Enum):\n",
                "    \"\"\"\n",
                "    The TxType allows you to chose what type of synchronization you want to use to send transaction\n",
                "    \"\"\"\n",
                "\n",
                "    SYNC = 1\n",
                "    \"\"\"\n",
                "    The CLI waits for a CheckTx execution response only.\n",
                "    Each full-node that receives a transaction sends a CheckTx to the application layer to check for validity, and\n",
                "    receives an abci.ResponseCheckTx. If the Tx passes the checks, it is held in the nodes' Mempool , an in-memory pool\n",
                "    of transactions unique to each node pending inclusion in a block - honest nodes will discard Tx if it is found to\n",
                "    be invalid.\n",
                "\n",
                "    Prior to consensus, nodes continuously check incoming transactions and gossip them to their peers.\n",
                "    \"\"\"\n",
                "\n",
                "    ASYNC = 2\n",
                "    \"\"\"\n",
                "    The CLI returns immediately (transaction might fail silently).\n",
                "    If you send a transaction with this option, it is recommended to query the transaction output using the hash of the\n",
                "    transaction given by the output of the tx call.\n",
                "    \"\"\"\n",
                "\n",
                "    BLOCK = 3\n",
                "    \"\"\"\n",
                "    The tx function will wait unitl the tx is be committed in a block.\n",
                "    This have the effect of having the full log of the transaction available with the output of the method. These logs\n",
                "    will include information as to coin sent and received, states changed etc.\n",
                "    \"\"\"\n",
                "```"
            ]
        },
        {
            "cell_type": "markdown",
            "metadata": {},
            "source": [
                "We can adjust our agent to open positions with any of those options"
            ]
        },
        {
            "cell_type": "code",
            "execution_count": null,
            "metadata": {},
            "outputs": [],
            "source": [
                "agent_mnemonic = \"vapor maximum leg hybrid purchase cash arrow credit pink produce already stool umbrella evil exhaust doll tell category cheese history gossip clown favorite\""
            ]
        },
        {
            "cell_type": "code",
            "execution_count": null,
            "metadata": {},
            "outputs": [],
            "source": [
                "tx_config = nibiru.TxConfig(tx_type=nibiru.TxType.BLOCK, gas_multiplier=3)\n",
                "trader = nibiru.Sdk.authorize(agent_mnemonic).with_network(network).with_config(tx_config)"
            ]
        },
        {
            "cell_type": "markdown",
            "metadata": {},
            "source": [
                "Our trader don't have any fund, so if we try to open a position it will fail saying that the address does not exist (never registered with the auth module of the chain)"
            ]
        },
        {
            "cell_type": "code",
            "execution_count": null,
            "metadata": {},
            "outputs": [],
            "source": [
                "pair = \"ubtc:unusd\""
            ]
        },
        {
            "cell_type": "code",
            "execution_count": null,
            "metadata": {},
            "outputs": [],
            "source": [
                "trader.tx.execute_msgs(\n",
                "    nibiru.msg.perp.MsgOpenPosition( # we will explain better this below\n",
                "        sender=trader.address,\n",
                "        pair=pair,\n",
                "        side=nibiru.Side.BUY,\n",
                "        quote_asset_amount=10,\n",
                "        leverage=10,\n",
                "        base_asset_amount_limit=0,\n",
                "    )\n",
                ")"
            ]
        },
        {
            "cell_type": "markdown",
            "metadata": {},
            "source": [
                "For our example, let's fund our trader with some fund from the validator node of our local tesnet."
            ]
        },
        {
            "cell_type": "code",
            "execution_count": null,
            "metadata": {},
            "outputs": [],
            "source": [
                "VALIDATOR_MNEMONIC=\"guard cream sadness conduct invite crumble clock pudding hole grit liar hotel maid produce squeeze return argue turtle know drive eight casino maze host\""
            ]
        },
        {
            "cell_type": "code",
            "execution_count": null,
            "metadata": {},
            "outputs": [],
            "source": [
                "validator = (\n",
                "    nibiru.Sdk\n",
                "        .authorize(VALIDATOR_MNEMONIC) # This allows us to recover the wallet with a mnemonic\n",
                "        .with_network(network)\n",
                "        .with_config(tx_config)\n",
                ")"
            ]
        },
        {
            "cell_type": "markdown",
            "metadata": {},
            "source": [
                "Now that we have a validator agent, let's send some fund with a MsgSend transaction"
            ]
        },
        {
            "cell_type": "code",
            "execution_count": null,
            "metadata": {},
            "outputs": [],
            "source": [
                "tx_output = validator.tx.execute_msgs(\n",
                "    nibiru.msg.bank.MsgSend(\n",
                "        from_address=validator.address,\n",
                "        to_address=trader.address,\n",
                "        coins=[nibiru.Coin(10000, \"unibi\"), nibiru.Coin(10000, \"unusd\")]\n",
                "    )\n",
                ")"
            ]
        },
        {
            "cell_type": "markdown",
            "metadata": {},
            "source": [
                "We can now query the balance of the trader address using the query we saw in the previous notebook"
            ]
        },
        {
            "cell_type": "code",
            "execution_count": null,
            "metadata": {},
            "outputs": [],
            "source": [
                "trader.query.get_bank_balances(trader.address)"
            ]
        },
        {
            "cell_type": "markdown",
            "metadata": {},
            "source": [
                "Let's try to open again a position"
            ]
        },
        {
            "cell_type": "code",
            "execution_count": null,
            "metadata": {},
            "outputs": [],
            "source": [
                "# New bug found today require us to run this command again.\n",
                "trader = nibiru.Sdk.authorize(agent_mnemonic).with_network(network).with_config(tx_config)\n",
                "\n",
                "\n",
                "tx_output = trader.tx.execute_msgs(\n",
                "    nibiru.msg.perp.MsgOpenPosition( # we will explain better this below\n",
                "        sender=trader.address,\n",
                "        pair=pair,\n",
                "        side=nibiru.Side.BUY,\n",
                "        quote_asset_amount=10,\n",
                "        leverage=10,\n",
                "        base_asset_amount_limit=0,\n",
                "    )\n",
                ")"
            ]
        },
        {
            "cell_type": "markdown",
            "metadata": {},
            "source": [
                "We can take a look at the log of the transaction by reading the txoutput"
            ]
        },
        {
            "cell_type": "code",
            "execution_count": null,
            "metadata": {},
            "outputs": [],
            "source": [
                "print(json.dumps(tx_output[\"rawLog\"], indent=4))"
            ]
        },
        {
            "cell_type": "markdown",
            "metadata": {},
            "source": [
                "Documentation for msgs can be found there: https://nibiru-py.readthedocs.io/en/latest/nibiru.msg.html"
            ]
        },
        {
            "cell_type": "code",
            "execution_count": null,
            "metadata": {},
            "outputs": [],
            "source": [
                "trader.query.perp.position(pair=pair, trader=trader.address)"
            ]
        },
        {
            "cell_type": "code",
            "execution_count": null,
            "metadata": {},
            "outputs": [],
            "source": []
        }
    ],
    "metadata": {
        "kernelspec": {
            "display_name": "Python 3.10.4 ('nibi')",
            "language": "python",
            "name": "python3"
        },
        "language_info": {
            "codemirror_mode": {
                "name": "ipython",
                "version": 3
            },
            "file_extension": ".py",
            "mimetype": "text/x-python",
            "name": "python",
            "nbconvert_exporter": "python",
            "pygments_lexer": "ipython3",
            "version": "3.10.4 (main, Mar 31 2022, 03:38:35) [Clang 12.0.0 ]"
        },
        "orig_nbformat": 4,
        "vscode": {
            "interpreter": {
                "hash": "23c82724f6800107d27a1bc097df076b7f523b299f39e774e7f2b8b0c7154a18"
            }
        }
    },
    "nbformat": 4,
    "nbformat_minor": 2
}
