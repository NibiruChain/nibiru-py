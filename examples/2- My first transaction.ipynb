{
 "cells": [
  {
   "cell_type": "code",
   "execution_count": null,
   "metadata": {},
   "outputs": [],
   "source": [
    "import json\n",
    "import nibiru\n",
    "from nibiru import Network, ChainClient, Msg, PrivateKey"
   ]
  },
  {
   "cell_type": "code",
   "execution_count": null,
   "metadata": {},
   "outputs": [],
   "source": [
    "nibiru.__version__"
   ]
  },
  {
   "cell_type": "markdown",
   "metadata": {},
   "source": [
    "## Create a wallet and get test tokens from faucet"
   ]
  },
  {
   "cell_type": "markdown",
   "source": [
    "To create a new wallet, generate a mnemonic key using any service or using SDK call:"
   ],
   "metadata": {
    "collapsed": false
   }
  },
  {
   "cell_type": "code",
   "execution_count": null,
   "outputs": [],
   "source": [
    "mnemonic, private_key = PrivateKey.generate()\n",
    "print(mnemonic)\n",
    "# Example OUTPUT:\n",
    "# enlist satisfy inspire hobby romance caught great neither kitchen unfair cage awesome update fade object eagle sun ordinary again journey spell gown tiger spin\n",
    "\n",
    "# Your wallet address\n",
    "print(private_key.to_public_key().to_address().to_acc_bech32())"
   ],
   "metadata": {
    "collapsed": false
   }
  },
  {
   "cell_type": "markdown",
   "source": [
    "Store your mnemonic key in a safe place and use it going forward.\n",
    "Use faucet to get some test tokens into your wallet: https://app.nibiru.fi/faucet"
   ],
   "metadata": {
    "collapsed": false
   }
  },
  {
   "cell_type": "markdown",
   "source": [
    "Сreate your chain client and authenticate with the mnemoniс generated"
   ],
   "metadata": {
    "collapsed": false
   }
  },
  {
   "cell_type": "code",
   "execution_count": null,
   "outputs": [],
   "source": [
    "mnemonic = \"put your mnemonic here...\"\n",
    "client = ChainClient(network=Network.testnet(2))\n",
    "client.authenticate(mnemonic=mnemonic)\n",
    "print(client.address)"
   ],
   "metadata": {
    "collapsed": false
   }
  },
  {
   "cell_type": "markdown",
   "source": [
    "Check your bank balances. If the faucet succeded - your wallet should not be empty."
   ],
   "metadata": {
    "collapsed": false
   }
  },
  {
   "cell_type": "code",
   "execution_count": null,
   "outputs": [],
   "source": [
    "print(client.query.get_bank_balances(client.address))"
   ],
   "metadata": {
    "collapsed": false
   }
  },
  {
   "cell_type": "code",
   "execution_count": null,
   "metadata": {},
   "outputs": [],
   "source": [
    "pair = \"ubtc:unusd\""
   ]
  },
  {
   "cell_type": "code",
   "execution_count": null,
   "metadata": {},
   "outputs": [],
   "source": [
    "output = client.tx.execute_msgs(\n",
    "    Msg.perp.open_position(\n",
    "        sender=client.address,\n",
    "        pair=pair,\n",
    "        is_long=True,\n",
    "        quote_asset_amount=10,\n",
    "        leverage=1,\n",
    "        base_asset_amount_limit=0,\n",
    "    )\n",
    ")\n",
    "print(output)"
   ]
  },
  {
   "cell_type": "markdown",
   "source": [
    "If your TX has succeeded, you should get output something like:\n",
    "\n",
    "`ExecuteTxResp(code=0, tx_hash='A2E9935BC06C360209FA7A9760F0CF54FA0A9DE0CAB6AF2D8687886E7A5F613F', log='[]')`\n",
    "\n",
    "Query your TX hash to get TX details:"
   ],
   "metadata": {
    "collapsed": false
   }
  },
  {
   "cell_type": "code",
   "execution_count": null,
   "metadata": {},
   "outputs": [],
   "source": [
    "output = client.query.tx_by_hash(\"A2E9935BC06C360209FA7A9760F0CF54FA0A9DE0CAB6AF2D8687886E7A5F613F\")\n",
    "print(output)"
   ]
  },
  {
   "cell_type": "markdown",
   "source": [
    "Or directly query the state of your position:"
   ],
   "metadata": {
    "collapsed": false
   }
  },
  {
   "cell_type": "code",
   "execution_count": null,
   "metadata": {},
   "outputs": [],
   "source": [
    "position = client.query.perp.position(pair, client.address)\n",
    "print(json.dumps(position, indent=4))"
   ]
  },
  {
   "cell_type": "markdown",
   "metadata": {},
   "source": [
    "We can now query the balance of the trader address using the query we saw in the previous notebook"
   ]
  },
  {
   "cell_type": "markdown",
   "metadata": {},
   "source": [
    "Documentation for msgs can be found there: https://nibiru-py.readthedocs.io/en/latest/nibiru.msg.html"
   ]
  }
 ],
 "metadata": {
  "kernelspec": {
   "display_name": "Python 3.10.4 ('nibi')",
   "language": "python",
   "name": "python3"
  },
  "language_info": {
   "codemirror_mode": {
    "name": "ipython",
    "version": 3
   },
   "file_extension": ".py",
   "mimetype": "text/x-python",
   "name": "python",
   "nbconvert_exporter": "python",
   "pygments_lexer": "ipython3",
   "version": "3.10.4"
  },
  "orig_nbformat": 4,
  "vscode": {
   "interpreter": {
    "hash": "23c82724f6800107d27a1bc097df076b7f523b299f39e774e7f2b8b0c7154a18"
   }
  }
 },
 "nbformat": 4,
 "nbformat_minor": 2
}
