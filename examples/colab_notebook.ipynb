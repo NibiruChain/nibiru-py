{
 "cells": [
  {
   "cell_type": "markdown",
   "metadata": {},
   "source": [
    "# Introduction to py-sdk\n",
    "\n",
    "The python sdk allows you to create queries and transaction to a Nibiru chain.\n",
    "\n",
    "It allows to interact with all of the modules and can be leveraged to automate trading strategies or monitor them.\n",
    "\n",
    "This notebook will guide you on opening and closing positions."
   ]
  },
  {
   "cell_type": "code",
   "execution_count": null,
   "metadata": {},
   "outputs": [],
   "source": [
    "import json\n",
    "\n",
    "from nibiru import Network, ChainClient, Msg, Coin"
   ]
  },
  {
   "cell_type": "markdown",
   "metadata": {},
   "source": [
    "Let's set up the chain to which we will be connecting to. If you have a preferred endpoint you can update these values to connect to it. Make sure that the node have the port opens for 1317, 26657 and 9090."
   ]
  },
  {
   "cell_type": "code",
   "execution_count": null,
   "metadata": {},
   "outputs": [],
   "source": [
    "pair = \"ubtc:unusd\""
   ]
  },
  {
   "cell_type": "markdown",
   "metadata": {},
   "source": [
    "Next, let's make sure that the transaction we send are synchronous. This way if no error is raised when running the execute_msgs method, we are sure that the transaction was successful."
   ]
  },
  {
   "cell_type": "code",
   "execution_count": null,
   "metadata": {},
   "outputs": [],
   "source": [
    "mnemonic = \"exclude rural knife asset egg seminar carry control thought stock topic lens embark about huge obvious reason language ripple clean cousin library punch renew\"\n",
    "client = ChainClient(network=Network.testnet(2))\n",
    "client.authenticate(mnemonic=mnemonic)\n",
    "\n",
    "# Check balance\n",
    "print(client.query.get_bank_balances(client.address))"
   ]
  },
  {
   "cell_type": "markdown",
   "metadata": {},
   "source": [
    "Now with those fresh token, we can open a long position"
   ]
  },
  {
   "cell_type": "code",
   "execution_count": null,
   "metadata": {},
   "outputs": [],
   "source": [
    "output = client.tx.execute_msgs(\n",
    "    Msg.perp.open_position(\n",
    "        pair=pair,\n",
    "        is_long=True,\n",
    "        quote_asset_amount=10,\n",
    "        leverage=1,\n",
    "        base_asset_amount_limit=0,\n",
    "    )\n",
    ")\n",
    "print(output)"
   ]
  },
  {
   "cell_type": "markdown",
   "source": [
    "If your TX has succeeded, you should get output something like:\n",
    "ExecuteTxResp(code=0, tx_hash='946A4252423A0AC183C1BAA2B76CCB25512DC9A18861D8782EFE7F14512CBDF6', log='[]')\n",
    "Query your TX hash to get TX details:"
   ],
   "metadata": {
    "collapsed": false
   }
  },
  {
   "cell_type": "code",
   "execution_count": null,
   "outputs": [],
   "source": [
    "output = client.query.tx_by_hash(\"946A4252423A0AC183C1BAA2B76CCB25512DC9A18861D8782EFE7F14512CBDF6\")\n",
    "print(output)"
   ],
   "metadata": {
    "collapsed": false
   }
  },
  {
   "cell_type": "markdown",
   "source": [
    "Or directly query the state of your position:"
   ],
   "metadata": {
    "collapsed": false
   }
  },
  {
   "cell_type": "code",
   "execution_count": null,
   "metadata": {},
   "outputs": [],
   "source": [
    "position = client.query.perp.position(pair, client.address)\n",
    "print(json.dumps(position, indent=4))"
   ]
  },
  {
   "cell_type": "markdown",
   "metadata": {},
   "source": [
    "We can then add margin to our position:"
   ]
  },
  {
   "cell_type": "code",
   "execution_count": null,
   "metadata": {},
   "outputs": [],
   "source": [
    "output = client.tx.execute_msgs(\n",
    "    Msg.perp.add_margin(\n",
    "        pair=pair,\n",
    "        margin=Coin(1, \"unusd\"),\n",
    "    )\n",
    ")\n",
    "print(output)"
   ]
  },
  {
   "cell_type": "markdown",
   "metadata": {},
   "source": [
    "Or remove margin:"
   ]
  },
  {
   "cell_type": "code",
   "execution_count": null,
   "metadata": {},
   "outputs": [],
   "source": [
    "output = client.tx.execute_msgs(\n",
    "    Msg.perp.remove_margin(\n",
    "        pair=pair,\n",
    "        margin=Coin(1, \"unusd\")\n",
    "    )\n",
    ")\n",
    "print(output)"
   ]
  },
  {
   "cell_type": "markdown",
   "metadata": {},
   "source": [
    "We can then totally close the position:"
   ]
  },
  {
   "cell_type": "code",
   "execution_count": null,
   "metadata": {},
   "outputs": [],
   "source": [
    "output = client.tx.execute_msgs(\n",
    "    Msg.perp.close_position(\n",
    "        pair=pair,\n",
    "    )\n",
    ")\n",
    "print(output)"
   ]
  },
  {
   "cell_type": "markdown",
   "metadata": {},
   "source": [
    "## Multi-transactions"
   ]
  },
  {
   "cell_type": "markdown",
   "metadata": {},
   "source": [
    "We can build multiple messages into a single transactions to be sure that they are executed consecutively.\n",
    "\n",
    "It can be useful for example to send tokens after removing margins from a position"
   ]
  },
  {
   "cell_type": "markdown",
   "metadata": {},
   "source": [
    "Lets create a transction with:\n",
    "- Agent open a position\n",
    "- Agent add margin\n",
    "- Agent close the position"
   ]
  },
  {
   "cell_type": "code",
   "execution_count": null,
   "metadata": {},
   "outputs": [],
   "source": [
    "output = client.tx.execute_msgs(\n",
    "    [\n",
    "        Msg.perp.open_position(\n",
    "            pair=pair,\n",
    "            is_long=True,\n",
    "            quote_asset_amount=10,\n",
    "            leverage=1,\n",
    "            base_asset_amount_limit=0,\n",
    "        ),\n",
    "        Msg.perp.add_margin(\n",
    "            pair=pair,\n",
    "            margin=Coin(1, \"unusd\"),\n",
    "        ),\n",
    "        Msg.perp.close_position(\n",
    "            pair=pair,\n",
    "        ),\n",
    "    ]\n",
    ")\n",
    "print(output)"
   ]
  }
 ],
 "metadata": {
  "kernelspec": {
   "display_name": "nibiru-py-k3GTQe1V",
   "language": "python",
   "name": "python3"
  },
  "language_info": {
   "codemirror_mode": {
    "name": "ipython",
    "version": 3
   },
   "file_extension": ".py",
   "mimetype": "text/x-python",
   "name": "python",
   "nbconvert_exporter": "python",
   "pygments_lexer": "ipython3",
   "version": "3.9.16"
  },
  "orig_nbformat": 4,
  "vscode": {
   "interpreter": {
    "hash": "b332d8d531602c345a00d4444116ed5f8f40664116717716e6e6b2e5640a7573"
   }
  }
 },
 "nbformat": 4,
 "nbformat_minor": 2
}
