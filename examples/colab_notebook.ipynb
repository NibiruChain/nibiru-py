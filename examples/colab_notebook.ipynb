{
 "cells": [
  {
   "cell_type": "markdown",
   "metadata": {},
   "source": [
    "# Introduction to Nibiru SDK\n",
    "\n",
    "The python sdk allows you to create queries and send transactions to a Nibiru chain.\n",
    "It allows to interact with all the modules and can be leveraged to automate trading strategies or monitor them.\n",
    "This notebook will guide you on opening and closing positions."
   ]
  },
  {
   "cell_type": "markdown",
   "source": [
    "### 1. Install Nibiru package"
   ],
   "metadata": {
    "collapsed": false
   }
  },
  {
   "cell_type": "code",
   "execution_count": null,
   "outputs": [],
   "source": [
    "!pip install nibiru"
   ],
   "metadata": {
    "collapsed": false
   }
  },
  {
   "cell_type": "markdown",
   "metadata": {},
   "source": [
    "### 2. Prepare wallet mnemonic key (or private key)\n",
    "If you don't have a mnemonic key, generate it using some online service or run the code below:"
   ]
  },
  {
   "cell_type": "code",
   "execution_count": null,
   "outputs": [],
   "source": [
    "from nibiru import PrivateKey\n",
    "mnemonic, private_key = PrivateKey.generate()\n",
    "print(mnemonic)"
   ],
   "metadata": {
    "collapsed": false
   }
  },
  {
   "cell_type": "markdown",
   "source": [
    "### 3. Get test tokens from the nibiru faucet\n",
    "Faucet URL: [https://app.nibiru.fi/faucet](https://app.nibiru.fi/faucet)"
   ],
   "metadata": {
    "collapsed": false
   }
  },
  {
   "cell_type": "markdown",
   "source": [
    "### 4. Create nibiru chain client and authenticate using mnemonic\n",
    "The client below uses ITN-2 Nibiru testnet chain.\n",
    "Use your mnemonic key or private key to authenticate.\n",
    "If you took money from the faucet, your balances should not be empty."
   ],
   "metadata": {
    "collapsed": false
   }
  },
  {
   "cell_type": "code",
   "execution_count": null,
   "metadata": {},
   "outputs": [],
   "source": [
    "import json\n",
    "from nibiru import Network, ChainClient, Msg, Coin\n",
    "\n",
    "mnemonic = \"put your mnemonic here\"\n",
    "client = ChainClient(network=Network.testnet(2))\n",
    "client.authenticate(mnemonic=mnemonic)  # alternatively use private_key_hex = your_key_hex\n",
    "\n",
    "# Check balance\n",
    "print(json.dumps(client.query.get_bank_balances(client.address)[\"balances\"], indent=2))"
   ]
  },
  {
   "cell_type": "markdown",
   "source": [
    "### 5. Create a tx to open perp trading position\n",
    "Position is: LONG (=BUY),\n",
    "\n",
    "pair = ubtc:unusd: prefix `u` means `μ` or micro. So `unusd = micro unusd = 1/1000_000 nusd`, same for ubtc.\n",
    "\n",
    "margin = 10: (value in quote amount which is unusd in our case)\n",
    "\n",
    "leverage = 2: your position notional will be 2 * 10"
   ],
   "metadata": {
    "collapsed": false
   }
  },
  {
   "cell_type": "code",
   "execution_count": null,
   "metadata": {},
   "outputs": [],
   "source": [
    "pair = \"ubtc:unusd\"\n",
    "\n",
    "output = client.tx.execute_msgs(\n",
    "    Msg.perp.open_position(\n",
    "        pair=pair,\n",
    "        is_long=True,\n",
    "        margin=10,\n",
    "        leverage=2,\n",
    "    )\n",
    ")\n",
    "print(output)"
   ]
  },
  {
   "cell_type": "markdown",
   "source": [
    "If your TX has succeeded, you should get output something like:\n",
    "```\n",
    "ExecuteTxResp(code=0, tx_hash='946A4252423A0AC183C1BAA2B76CCB25512DC9A18861D8782EFE7F14512CBDF6', log='[]')\n",
    "```\n",
    "Query your TX hash to get TX details:"
   ],
   "metadata": {
    "collapsed": false
   }
  },
  {
   "cell_type": "code",
   "execution_count": null,
   "outputs": [],
   "source": [
    "output = client.query.tx_by_hash(\"707F725DA2A04FD865FA6FEAF431DF89459F6A5C076B5AF93C627979C9B6CDF1\")\n",
    "print(output)"
   ],
   "metadata": {
    "collapsed": false
   }
  },
  {
   "cell_type": "markdown",
   "source": [
    "Or directly query the state of your position:"
   ],
   "metadata": {
    "collapsed": false
   }
  },
  {
   "cell_type": "code",
   "execution_count": null,
   "metadata": {},
   "outputs": [],
   "source": [
    "position = client.query.perp.position(pair, client.address)\n",
    "print(json.dumps(position, indent=4))"
   ]
  },
  {
   "cell_type": "markdown",
   "metadata": {},
   "source": [
    "We can then add margin to our position:"
   ]
  },
  {
   "cell_type": "code",
   "execution_count": null,
   "metadata": {},
   "outputs": [],
   "source": [
    "output = client.tx.execute_msgs(\n",
    "    Msg.perp.add_margin(\n",
    "        pair=pair,\n",
    "        margin=Coin(1, \"unusd\"),\n",
    "    )\n",
    ")\n",
    "print(output)"
   ]
  },
  {
   "cell_type": "markdown",
   "metadata": {},
   "source": [
    "Or remove margin:"
   ]
  },
  {
   "cell_type": "code",
   "execution_count": null,
   "metadata": {},
   "outputs": [],
   "source": [
    "output = client.tx.execute_msgs(\n",
    "    Msg.perp.remove_margin(\n",
    "        pair=pair,\n",
    "        margin=Coin(1, \"unusd\")\n",
    "    )\n",
    ")\n",
    "print(output)"
   ]
  },
  {
   "cell_type": "markdown",
   "metadata": {},
   "source": [
    "We can then totally close the position:"
   ]
  },
  {
   "cell_type": "code",
   "execution_count": null,
   "metadata": {},
   "outputs": [],
   "source": [
    "output = client.tx.execute_msgs(\n",
    "    Msg.perp.close_position(\n",
    "        pair=pair,\n",
    "    )\n",
    ")\n",
    "print(output)"
   ]
  },
  {
   "cell_type": "markdown",
   "metadata": {},
   "source": [
    "## Multi-transactions\n",
    "We can build multiple messages into a single transaction to be sure that they are executed consecutively.\n",
    "\n",
    "It can be useful for example to send tokens after removing margins from a position."
   ]
  },
  {
   "cell_type": "markdown",
   "metadata": {},
   "source": [
    "Lets create a transction with:\n",
    "- Agent open a position\n",
    "- Agent add margin\n",
    "- Agent close the position"
   ]
  },
  {
   "cell_type": "code",
   "execution_count": null,
   "metadata": {},
   "outputs": [],
   "source": [
    "output = client.tx.execute_msgs(\n",
    "    [\n",
    "        Msg.perp.open_position(\n",
    "            pair=pair,\n",
    "            is_long=True,\n",
    "            margin=10,\n",
    "            leverage=1,\n",
    "        ),\n",
    "        Msg.perp.add_margin(\n",
    "            pair=pair,\n",
    "            margin=Coin(1, \"unusd\"),\n",
    "        ),\n",
    "        Msg.perp.close_position(\n",
    "            pair=pair,\n",
    "        ),\n",
    "    ]\n",
    ")\n",
    "print(output)"
   ]
  },
  {
   "cell_type": "code",
   "execution_count": null,
   "outputs": [],
   "source": [
    "position = client.query.perp.all_positions(client.address)\n",
    "print(json.dumps(position, indent=4))"
   ],
   "metadata": {
    "collapsed": false
   }
  },
  {
   "cell_type": "markdown",
   "source": [
    "That's it! Good luck and happy Nibiru coding!"
   ],
   "metadata": {
    "collapsed": false
   }
  }
 ],
 "metadata": {
  "kernelspec": {
   "display_name": "nibiru-py-k3GTQe1V",
   "language": "python",
   "name": "python3"
  },
  "language_info": {
   "codemirror_mode": {
    "name": "ipython",
    "version": 3
   },
   "file_extension": ".py",
   "mimetype": "text/x-python",
   "name": "python",
   "nbconvert_exporter": "python",
   "pygments_lexer": "ipython3",
   "version": "3.9.16"
  },
  "orig_nbformat": 4,
  "vscode": {
   "interpreter": {
    "hash": "b332d8d531602c345a00d4444116ed5f8f40664116717716e6e6b2e5640a7573"
   }
  }
 },
 "nbformat": 4,
 "nbformat_minor": 2
}
