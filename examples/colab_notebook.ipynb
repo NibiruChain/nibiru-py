{
 "cells": [
  {
   "cell_type": "markdown",
   "metadata": {},
   "source": [
    "# Introduction to py-sdk\n",
    "\n",
    "The python sdk allows you to create queries and transaction to a Nibiru chain.\n",
    "\n",
    "It allows to interact with all of the modules and can be leveraged to automate trading strategies or monitor them.\n",
    "\n",
    "This notebook will guide you on opening and closing positions."
   ]
  },
  {
   "cell_type": "code",
   "execution_count": 17,
   "metadata": {},
   "outputs": [],
   "source": [
    "import json\n",
    "\n",
    "from nibiru import Network, ChainClient, Msg, Coin"
   ]
  },
  {
   "cell_type": "markdown",
   "metadata": {},
   "source": [
    "Let's set up the chain to which we will be connecting to. If you have a preferred endpoint you can update these values to connect to it. Make sure that the node have the port opens for 1317, 26657 and 9090."
   ]
  },
  {
   "cell_type": "code",
   "execution_count": 4,
   "metadata": {},
   "outputs": [],
   "source": [
    "pair = \"ubtc:unusd\""
   ]
  },
  {
   "cell_type": "markdown",
   "metadata": {},
   "source": [
    "Next, let's make sure that the transaction we send are synchronous. This way if no error is raised when running the execute_msgs method, we are sure that the transaction was successful."
   ]
  },
  {
   "cell_type": "code",
   "execution_count": 8,
   "metadata": {},
   "outputs": [
    {
     "name": "stdout",
     "output_type": "stream",
     "text": [
      "{'balances': [{'denom': 'unibi', 'amount': 99988614936458}, {'denom': 'unusd', 'amount': 1000000165415947734}, {'denom': 'uusdt', 'amount': 10000000200000000}], 'pagination': {'next_key': b'', 'total': 3}}\n"
     ]
    }
   ],
   "source": [
    "mnemonic = \"exclude rural knife asset egg seminar carry control thought stock topic lens embark about huge obvious reason language ripple clean cousin library punch renew\"\n",
    "client = ChainClient(network=Network.testnet(2))\n",
    "client.authenticate(mnemonic=mnemonic)\n",
    "\n",
    "# Check balance\n",
    "print(client.query.get_bank_balances(client.address))"
   ]
  },
  {
   "cell_type": "markdown",
   "metadata": {},
   "source": [
    "Now with those fresh token, we can open a long position"
   ]
  },
  {
   "cell_type": "code",
   "execution_count": 12,
   "metadata": {},
   "outputs": [
    {
     "name": "stdout",
     "output_type": "stream",
     "text": [
      "ExecuteTxResp(code=0, tx_hash='946A4252423A0AC183C1BAA2B76CCB25512DC9A18861D8782EFE7F14512CBDF6', log='[]')\n"
     ]
    }
   ],
   "source": [
    "output = client.tx.execute_msgs(\n",
    "    Msg.perp.open_position(\n",
    "        sender=client.address,\n",
    "        pair=pair,\n",
    "        is_long=True,\n",
    "        quote_asset_amount=10,\n",
    "        leverage=1,\n",
    "        base_asset_amount_limit=0,\n",
    "    )\n",
    ")\n",
    "print(output)"
   ]
  },
  {
   "cell_type": "markdown",
   "source": [
    "If your TX has succeeded, you should get output something like:\n",
    "ExecuteTxResp(code=0, tx_hash='946A4252423A0AC183C1BAA2B76CCB25512DC9A18861D8782EFE7F14512CBDF6', log='[]')\n",
    "Query your TX hash to get TX details:"
   ],
   "metadata": {
    "collapsed": false
   }
  },
  {
   "cell_type": "code",
   "execution_count": 13,
   "outputs": [
    {
     "name": "stdout",
     "output_type": "stream",
     "text": [
      "{'tx': {'body': {'messages': [{'type_url': '/nibiru.perp.v2.MsgMarketOrder', 'value': [10, 43, 110, 105, 98, 105, 49, 106, 108, 101, 56, 107, 104, 106, 51, 97, 101, 110, 110, 113, 50, 52, 122, 120, 54, 103, 57, 51, 97, 97, 109, 57, 114, 116, 48, 102, 113, 104, 103, 121, 112, 52, 104, 53, 50, 18, 10, 117, 98, 116, 99, 58, 117, 110, 117, 115, 100, 24, 1, 34, 2, 49, 48, 42, 19, 49, 48, 48, 48, 48, 48, 48, 48, 48, 48, 48, 48, 48, 48, 48, 48, 48, 48, 48, 50, 1, 48]}], 'memo': '', 'timeout_height': 902379, 'extension_options': [], 'non_critical_extension_options': []}, 'auth_info': {'signer_infos': [{'public_key': {'type_url': '/cosmos.crypto.secp256k1.PubKey', 'value': [10, 33, 3, 49, 132, 132, 31, 74, 77, 38, 216, 26, 253, 113, 231, 178, 209, 102, 161, 168, 243, 31, 103, 203, 239, 112, 166, 177, 205, 144, 9, 244, 227, 62, 253]}, 'mode_info': {'single': {'mode': 1}, 'multi': {'bitarray': {'extra_bits_stored': 0, 'elems': b''}, 'mode_infos': []}}, 'sequence': 18411}], 'fee': {'amount': [{'denom': 'unibi', 'amount': 248532}], 'gas_limit': 994130, 'payer': '', 'granter': ''}, 'tip': {'amount': [], 'tipper': ''}}, 'signatures': [b'\\x97\\x9b\\x83U!\\x7f\\x96\\x04\\xde\\x9cw\\xcf\\xdf\\xa7\\x9a\\xa0w\\x7ffa\\xfd&SJ\\x15\\xf9\\xcd\\xf8\\xc8\\xa9c\\xed=\"L\\x91\\xc3\\xc7\\x10Mp\\xe9\\x1b\\xee=\\xa7\\x01\\r\\xdb\\xa4\\xb79\\xd9j\\xb2\\xda_5\\x0c\\x96\\xfa9\\xd7u']}, 'tx_response': {'height': 902360, 'txhash': '946A4252423A0AC183C1BAA2B76CCB25512DC9A18861D8782EFE7F14512CBDF6', 'codespace': '', 'code': 0, 'data': '129D020A262F6E69626972752E706572702E76322E4D73674D61726B65744F72646572526573706F6E736512F2010A93010A2B6E696269316A6C65386B686A3361656E6E7132347A783667393361616D3972743066716867797034683532120A756274633A756E7573641A0F333832323739323838353730373938221431303030303030303030303030303030303030302A14313030303030303030303030303030303030303032172D3230323535393239373433343731303239393936383938D88937121431303030303030303030303030303030303030301A0F3338323237393238383537303739382201302A01303201303A14313030303030303030303030303030303030303042143130303030303030303030303030303030303030', 'raw_log': '[{\"msg_index\":0,\"events\":[{\"type\":\"message\",\"attributes\":[{\"key\":\"action\",\"value\":\"/nibiru.perp.v2.MsgMarketOrder\"},{\"key\":\"sender\",\"value\":\"nibi1jle8khj3aennq24zx6g93aam9rt0fqhgyp4h52\"},{\"key\":\"module\",\"value\":\"perp\"}]},{\"type\":\"coin_spent\",\"attributes\":[{\"key\":\"spender\",\"value\":\"nibi1jle8khj3aennq24zx6g93aam9rt0fqhgyp4h52\"},{\"key\":\"amount\",\"value\":\"10unusd\"}]},{\"type\":\"coin_received\",\"attributes\":[{\"key\":\"receiver\",\"value\":\"nibi1umc2r7a58jy3jmw0e0hctyy0rx45chmurptawl\"},{\"key\":\"amount\",\"value\":\"10unusd\"}]},{\"type\":\"transfer\",\"attributes\":[{\"key\":\"recipient\",\"value\":\"nibi1umc2r7a58jy3jmw0e0hctyy0rx45chmurptawl\"},{\"key\":\"sender\",\"value\":\"nibi1jle8khj3aennq24zx6g93aam9rt0fqhgyp4h52\"},{\"key\":\"amount\",\"value\":\"10unusd\"}]},{\"type\":\"message\",\"attributes\":[{\"key\":\"sender\",\"value\":\"nibi1jle8khj3aennq24zx6g93aam9rt0fqhgyp4h52\"}]},{\"type\":\"nibiru.perp.v2.PositionChangedEvent\",\"attributes\":[{\"key\":\"bad_debt\",\"value\":\"{\\\\\"denom\\\\\":\\\\\"unusd\\\\\",\\\\\"amount\\\\\":\\\\\"0\\\\\"}\"},{\"key\":\"block_height\",\"value\":\"\\\\\"902360\\\\\"\"},{\"key\":\"change_reason\",\"value\":\"\\\\\"market_order\\\\\"\"},{\"key\":\"exchanged_notional\",\"value\":\"\\\\\"10.000000000000000000\\\\\"\"},{\"key\":\"exchanged_size\",\"value\":\"\\\\\"0.000382279288570798\\\\\"\"},{\"key\":\"final_position\",\"value\":\"{\\\\\"trader_address\\\\\":\\\\\"nibi1jle8khj3aennq24zx6g93aam9rt0fqhgyp4h52\\\\\",\\\\\"pair\\\\\":\\\\\"ubtc:unusd\\\\\",\\\\\"size\\\\\":\\\\\"0.000382279288570798\\\\\",\\\\\"margin\\\\\":\\\\\"10.000000000000000000\\\\\",\\\\\"open_notional\\\\\":\\\\\"10.000000000000000000\\\\\",\\\\\"latest_cumulative_premium_fraction\\\\\":\\\\\"-2025.592974347102999689\\\\\",\\\\\"last_updated_block_number\\\\\":\\\\\"902360\\\\\"}\"},{\"key\":\"funding_payment\",\"value\":\"\\\\\"0.000000000000000000\\\\\"\"},{\"key\":\"margin_to_user\",\"value\":\"\\\\\"-10\\\\\"\"},{\"key\":\"position_notional\",\"value\":\"\\\\\"10.000000000000000000\\\\\"\"},{\"key\":\"realized_pnl\",\"value\":\"\\\\\"0.000000000000000000\\\\\"\"},{\"key\":\"transaction_fee\",\"value\":\"{\\\\\"denom\\\\\":\\\\\"unusd\\\\\",\\\\\"amount\\\\\":\\\\\"0\\\\\"}\"}]}]}]', 'logs': [{'msg_index': 0, 'log': '', 'events': [{'type': 'message', 'attributes': [{'key': 'action', 'value': '/nibiru.perp.v2.MsgMarketOrder'}, {'key': 'sender', 'value': 'nibi1jle8khj3aennq24zx6g93aam9rt0fqhgyp4h52'}, {'key': 'module', 'value': 'perp'}]}, {'type': 'coin_spent', 'attributes': [{'key': 'spender', 'value': 'nibi1jle8khj3aennq24zx6g93aam9rt0fqhgyp4h52'}, {'key': 'amount', 'value': '10unusd'}]}, {'type': 'coin_received', 'attributes': [{'key': 'receiver', 'value': 'nibi1umc2r7a58jy3jmw0e0hctyy0rx45chmurptawl'}, {'key': 'amount', 'value': '10unusd'}]}, {'type': 'transfer', 'attributes': [{'key': 'recipient', 'value': 'nibi1umc2r7a58jy3jmw0e0hctyy0rx45chmurptawl'}, {'key': 'sender', 'value': 'nibi1jle8khj3aennq24zx6g93aam9rt0fqhgyp4h52'}, {'key': 'amount', 'value': '10unusd'}]}, {'type': 'message', 'attributes': [{'key': 'sender', 'value': 'nibi1jle8khj3aennq24zx6g93aam9rt0fqhgyp4h52'}]}, {'type': 'nibiru.perp.v2.PositionChangedEvent', 'attributes': [{'key': 'bad_debt', 'value': '{\"denom\":\"unusd\",\"amount\":\"0\"}'}, {'key': 'block_height', 'value': '\"902360\"'}, {'key': 'change_reason', 'value': '\"market_order\"'}, {'key': 'exchanged_notional', 'value': '\"10.000000000000000000\"'}, {'key': 'exchanged_size', 'value': '\"0.000382279288570798\"'}, {'key': 'final_position', 'value': '{\"trader_address\":\"nibi1jle8khj3aennq24zx6g93aam9rt0fqhgyp4h52\",\"pair\":\"ubtc:unusd\",\"size\":\"0.000382279288570798\",\"margin\":\"10.000000000000000000\",\"open_notional\":\"10.000000000000000000\",\"latest_cumulative_premium_fraction\":\"-2025.592974347102999689\",\"last_updated_block_number\":\"902360\"}'}, {'key': 'funding_payment', 'value': '\"0.000000000000000000\"'}, {'key': 'margin_to_user', 'value': '\"-10\"'}, {'key': 'position_notional', 'value': '\"10.000000000000000000\"'}, {'key': 'realized_pnl', 'value': '\"0.000000000000000000\"'}, {'key': 'transaction_fee', 'value': '{\"denom\":\"unusd\",\"amount\":\"0\"}'}]}]}], 'info': '', 'gas_wanted': 994130, 'gas_used': 815382, 'tx': {'type_url': '/cosmos.tx.v1beta1.Tx', 'value': [10, 127, 10, 121, 10, 30, 47, 110, 105, 98, 105, 114, 117, 46, 112, 101, 114, 112, 46, 118, 50, 46, 77, 115, 103, 77, 97, 114, 107, 101, 116, 79, 114, 100, 101, 114, 18, 87, 10, 43, 110, 105, 98, 105, 49, 106, 108, 101, 56, 107, 104, 106, 51, 97, 101, 110, 110, 113, 50, 52, 122, 120, 54, 103, 57, 51, 97, 97, 109, 57, 114, 116, 48, 102, 113, 104, 103, 121, 112, 52, 104, 53, 50, 18, 10, 117, 98, 116, 99, 58, 117, 110, 117, 115, 100, 24, 1, 34, 2, 49, 48, 42, 19, 49, 48, 48, 48, 48, 48, 48, 48, 48, 48, 48, 48, 48, 48, 48, 48, 48, 48, 48, 50, 1, 48, 24, 235, 137, 55, 18, 107, 10, 82, 10, 70, 10, 31, 47, 99, 111, 115, 109, 111, 115, 46, 99, 114, 121, 112, 116, 111, 46, 115, 101, 99, 112, 50, 53, 54, 107, 49, 46, 80, 117, 98, 75, 101, 121, 18, 35, 10, 33, 3, 49, 132, 132, 31, 74, 77, 38, 216, 26, 253, 113, 231, 178, 209, 102, 161, 168, 243, 31, 103, 203, 239, 112, 166, 177, 205, 144, 9, 244, 227, 62, 253, 18, 4, 10, 2, 8, 1, 24, 235, 143, 1, 18, 21, 10, 15, 10, 5, 117, 110, 105, 98, 105, 18, 6, 50, 52, 56, 53, 51, 50, 16, 210, 214, 60, 26, 64, 151, 155, 131, 85, 33, 127, 150, 4, 222, 156, 119, 207, 223, 167, 154, 160, 119, 127, 102, 97, 253, 38, 83, 74, 21, 249, 205, 248, 200, 169, 99, 237, 61, 34, 76, 145, 195, 199, 16, 77, 112, 233, 27, 238, 61, 167, 1, 13, 219, 164, 183, 57, 217, 106, 178, 218, 95, 53, 12, 150, 250, 57, 215, 117]}, 'timestamp': '2023-09-25T14:33:08Z', 'events': [{'type': 'coin_spent', 'attributes': [{'key': 'spender', 'value': 'nibi1jle8khj3aennq24zx6g93aam9rt0fqhgyp4h52', 'index': True}, {'key': 'amount', 'value': '248532unibi', 'index': True}]}, {'type': 'coin_received', 'attributes': [{'key': 'receiver', 'value': 'nibi17xpfvakm2amg962yls6f84z3kell8c5l8u8ezw', 'index': True}, {'key': 'amount', 'value': '248532unibi', 'index': True}]}, {'type': 'transfer', 'attributes': [{'key': 'recipient', 'value': 'nibi17xpfvakm2amg962yls6f84z3kell8c5l8u8ezw', 'index': True}, {'key': 'sender', 'value': 'nibi1jle8khj3aennq24zx6g93aam9rt0fqhgyp4h52', 'index': True}, {'key': 'amount', 'value': '248532unibi', 'index': True}]}, {'type': 'message', 'attributes': [{'key': 'sender', 'value': 'nibi1jle8khj3aennq24zx6g93aam9rt0fqhgyp4h52', 'index': True}]}, {'type': 'tx', 'attributes': [{'key': 'fee', 'value': '248532unibi', 'index': True}, {'key': 'fee_payer', 'value': 'nibi1jle8khj3aennq24zx6g93aam9rt0fqhgyp4h52', 'index': True}]}, {'type': 'tx', 'attributes': [{'key': 'acc_seq', 'value': 'nibi1jle8khj3aennq24zx6g93aam9rt0fqhgyp4h52/18411', 'index': True}]}, {'type': 'tx', 'attributes': [{'key': 'signature', 'value': 'l5uDVSF/lgTenHfP36eaoHd/ZmH9JlNKFfnN+MipY+09IkyRw8cQTXDpG+49pwEN26S3OdlqstpfNQyW+jnXdQ==', 'index': True}]}, {'type': 'message', 'attributes': [{'key': 'action', 'value': '/nibiru.perp.v2.MsgMarketOrder', 'index': True}, {'key': 'sender', 'value': 'nibi1jle8khj3aennq24zx6g93aam9rt0fqhgyp4h52', 'index': True}, {'key': 'module', 'value': 'perp', 'index': True}]}, {'type': 'coin_spent', 'attributes': [{'key': 'spender', 'value': 'nibi1jle8khj3aennq24zx6g93aam9rt0fqhgyp4h52', 'index': True}, {'key': 'amount', 'value': '10unusd', 'index': True}]}, {'type': 'coin_received', 'attributes': [{'key': 'receiver', 'value': 'nibi1umc2r7a58jy3jmw0e0hctyy0rx45chmurptawl', 'index': True}, {'key': 'amount', 'value': '10unusd', 'index': True}]}, {'type': 'transfer', 'attributes': [{'key': 'recipient', 'value': 'nibi1umc2r7a58jy3jmw0e0hctyy0rx45chmurptawl', 'index': True}, {'key': 'sender', 'value': 'nibi1jle8khj3aennq24zx6g93aam9rt0fqhgyp4h52', 'index': True}, {'key': 'amount', 'value': '10unusd', 'index': True}]}, {'type': 'message', 'attributes': [{'key': 'sender', 'value': 'nibi1jle8khj3aennq24zx6g93aam9rt0fqhgyp4h52', 'index': True}]}, {'type': 'nibiru.perp.v2.PositionChangedEvent', 'attributes': [{'key': 'bad_debt', 'value': '{\"denom\":\"unusd\",\"amount\":\"0\"}', 'index': True}, {'key': 'block_height', 'value': '\"902360\"', 'index': True}, {'key': 'change_reason', 'value': '\"market_order\"', 'index': True}, {'key': 'exchanged_notional', 'value': '\"10.000000000000000000\"', 'index': True}, {'key': 'exchanged_size', 'value': '\"0.000382279288570798\"', 'index': True}, {'key': 'final_position', 'value': '{\"trader_address\":\"nibi1jle8khj3aennq24zx6g93aam9rt0fqhgyp4h52\",\"pair\":\"ubtc:unusd\",\"size\":\"0.000382279288570798\",\"margin\":\"10.000000000000000000\",\"open_notional\":\"10.000000000000000000\",\"latest_cumulative_premium_fraction\":\"-2025.592974347102999689\",\"last_updated_block_number\":\"902360\"}', 'index': True}, {'key': 'funding_payment', 'value': '\"0.000000000000000000\"', 'index': True}, {'key': 'margin_to_user', 'value': '\"-10\"', 'index': True}, {'key': 'position_notional', 'value': '\"10.000000000000000000\"', 'index': True}, {'key': 'realized_pnl', 'value': '\"0.000000000000000000\"', 'index': True}, {'key': 'transaction_fee', 'value': '{\"denom\":\"unusd\",\"amount\":\"0\"}', 'index': True}]}]}}\n"
     ]
    }
   ],
   "source": [
    "output = client.query.tx_by_hash(\"946A4252423A0AC183C1BAA2B76CCB25512DC9A18861D8782EFE7F14512CBDF6\")\n",
    "print(output)"
   ],
   "metadata": {
    "collapsed": false
   }
  },
  {
   "cell_type": "markdown",
   "source": [
    "Or directly query the state of your position:"
   ],
   "metadata": {
    "collapsed": false
   }
  },
  {
   "cell_type": "code",
   "execution_count": 14,
   "metadata": {},
   "outputs": [
    {
     "name": "stdout",
     "output_type": "stream",
     "text": [
      "{\n",
      "    \"position\": {\n",
      "        \"trader_address\": \"nibi1jle8khj3aennq24zx6g93aam9rt0fqhgyp4h52\",\n",
      "        \"pair\": \"ubtc:unusd\",\n",
      "        \"size\": 0.000382279288570798,\n",
      "        \"margin\": 10.0,\n",
      "        \"open_notional\": 10.0,\n",
      "        \"latest_cumulative_premium_fraction\": -2025.592974347103,\n",
      "        \"last_updated_block_number\": 902360\n",
      "    },\n",
      "    \"position_notional\": 10.000713635244779,\n",
      "    \"unrealized_pnl\": 0.000713635244778446,\n",
      "    \"margin_ratio\": 1.0\n",
      "}\n"
     ]
    }
   ],
   "source": [
    "position = client.query.perp.position(pair, client.address)\n",
    "print(json.dumps(position, indent=4))"
   ]
  },
  {
   "cell_type": "markdown",
   "metadata": {},
   "source": [
    "We can then add margin to our position:"
   ]
  },
  {
   "cell_type": "code",
   "execution_count": 18,
   "metadata": {},
   "outputs": [
    {
     "name": "stdout",
     "output_type": "stream",
     "text": [
      "ExecuteTxResp(code=0, tx_hash='5C94F2809960449438416AF5D0CABC13AEE4A750BE221B5EBF4DECE9272498D9', log='[]')\n"
     ]
    }
   ],
   "source": [
    "output = client.tx.execute_msgs(\n",
    "    Msg.perp.add_margin(\n",
    "        sender=client.address,\n",
    "        pair=pair,\n",
    "        margin=Coin(1, \"unusd\"),\n",
    "    )\n",
    ")\n",
    "print(output)"
   ]
  },
  {
   "cell_type": "markdown",
   "metadata": {},
   "source": [
    "Or remove margin:"
   ]
  },
  {
   "cell_type": "code",
   "execution_count": null,
   "metadata": {},
   "outputs": [],
   "source": [
    "output = client.tx.execute_msgs(\n",
    "    Msg.perp.remove_margin(\n",
    "        sender=client.address,\n",
    "        pair=pair,\n",
    "        margin=Coin(1, \"unusd\")\n",
    "    )\n",
    ")\n",
    "print(output)"
   ]
  },
  {
   "cell_type": "markdown",
   "metadata": {},
   "source": [
    "We can then totally close the position:"
   ]
  },
  {
   "cell_type": "code",
   "execution_count": 19,
   "metadata": {},
   "outputs": [
    {
     "name": "stdout",
     "output_type": "stream",
     "text": [
      "ExecuteTxResp(code=0, tx_hash='6B7B232205F512C98A6125DF9EF93E660474F15D7D4BCE138A9AF661FE68628B', log='[]')\n"
     ]
    }
   ],
   "source": [
    "output = client.tx.execute_msgs(\n",
    "    Msg.perp.close_position(\n",
    "        sender=client.address,\n",
    "        pair=pair,\n",
    "    )\n",
    ")\n",
    "print(output)"
   ]
  },
  {
   "cell_type": "markdown",
   "metadata": {},
   "source": [
    "## Multi-transactions"
   ]
  },
  {
   "cell_type": "markdown",
   "metadata": {},
   "source": [
    "We can build multiple messages into a single transactions to be sure that they are executed consecutively.\n",
    "\n",
    "It can be useful for example to send tokens after removing margins from a position"
   ]
  },
  {
   "cell_type": "markdown",
   "metadata": {},
   "source": [
    "Lets create a transction with:\n",
    "- Agent open a position\n",
    "- Agent add margin\n",
    "- Agent close the position"
   ]
  },
  {
   "cell_type": "code",
   "execution_count": 20,
   "metadata": {},
   "outputs": [
    {
     "name": "stdout",
     "output_type": "stream",
     "text": [
      "ExecuteTxResp(code=0, tx_hash='E697AFD9B63B3C6C312B9707B600F437C3A4CBFCA20D5D853E067BB40931B634', log='[]')\n"
     ]
    }
   ],
   "source": [
    "output = client.tx.execute_msgs(\n",
    "    [\n",
    "        Msg.perp.open_position(\n",
    "            sender=client.address,\n",
    "            pair=pair,\n",
    "            is_long=True,\n",
    "            quote_asset_amount=10,\n",
    "            leverage=1,\n",
    "            base_asset_amount_limit=0,\n",
    "        ),\n",
    "        Msg.perp.add_margin(\n",
    "            sender=client.address,\n",
    "            pair=pair,\n",
    "            margin=Coin(1, \"unusd\"),\n",
    "        ),\n",
    "        Msg.perp.close_position(\n",
    "            sender=client.address,\n",
    "            pair=pair,\n",
    "        ),\n",
    "    ]\n",
    ")\n",
    "print(output)"
   ]
  },
  {
   "cell_type": "code",
   "execution_count": null,
   "outputs": [],
   "source": [],
   "metadata": {
    "collapsed": false
   }
  }
 ],
 "metadata": {
  "kernelspec": {
   "display_name": "nibiru-py-k3GTQe1V",
   "language": "python",
   "name": "python3"
  },
  "language_info": {
   "codemirror_mode": {
    "name": "ipython",
    "version": 3
   },
   "file_extension": ".py",
   "mimetype": "text/x-python",
   "name": "python",
   "nbconvert_exporter": "python",
   "pygments_lexer": "ipython3",
   "version": "3.9.16"
  },
  "orig_nbformat": 4,
  "vscode": {
   "interpreter": {
    "hash": "b332d8d531602c345a00d4444116ed5f8f40664116717716e6e6b2e5640a7573"
   }
  }
 },
 "nbformat": 4,
 "nbformat_minor": 2
}
