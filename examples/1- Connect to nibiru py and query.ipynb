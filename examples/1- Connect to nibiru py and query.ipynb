{
 "cells": [
  {
   "cell_type": "code",
   "execution_count": 11,
   "metadata": {},
   "outputs": [],
   "source": [
    "import nibiru\n",
    "\n",
    "import json"
   ]
  },
  {
   "cell_type": "code",
   "execution_count": 12,
   "metadata": {},
   "outputs": [
    {
     "data": {
      "text/plain": [
       "'0.20.0b5'"
      ]
     },
     "execution_count": 12,
     "metadata": {},
     "output_type": "execute_result"
    }
   ],
   "source": [
    "nibiru.__version__"
   ]
  },
  {
   "attachments": {},
   "cell_type": "markdown",
   "metadata": {},
   "source": [
    "# Connect to a chain\n",
    "\n"
   ]
  },
  {
   "attachments": {},
   "cell_type": "markdown",
   "metadata": {},
   "source": [
    "You can connect to any chain (localnet, testnet or mainnet) using this python SDK. Let's connect to localnet.\n",
    "\n",
    "**Make sure you have localnet running in another terminal with the latest code from master**\n",
    "\n",
    "> To create such network, you can clone the [nibiru](https://github.com/NibiruChain/nibiru) main repository and run `make localnet`"
   ]
  },
  {
   "cell_type": "code",
   "execution_count": 3,
   "metadata": {},
   "outputs": [],
   "source": [
    "network = nibiru.Network.testnet(1)"
   ]
  },
  {
   "attachments": {},
   "cell_type": "markdown",
   "metadata": {},
   "source": [
    "Now we can create a trader agent to interact with the chain:"
   ]
  },
  {
   "cell_type": "code",
   "execution_count": 4,
   "metadata": {},
   "outputs": [
    {
     "name": "stderr",
     "output_type": "stream",
     "text": [
      "WARNING:root:The mnemonic used for the newly generated key is: \n",
      "coin cart alone walnut busy basket shiver october buddy lamp company diet nominee hover phrase acoustic forget repair intact noise assist mountain review win\n",
      "WARNING:root:Please write down this key, it will NOT be recoverable otherwise\n"
     ]
    }
   ],
   "source": [
    "trader = nibiru.Sdk.authorize().with_network(network)"
   ]
  },
  {
   "cell_type": "code",
   "execution_count": 5,
   "metadata": {},
   "outputs": [
    {
     "name": "stdout",
     "output_type": "stream",
     "text": [
      "nibi17pz067rhcnyerjvn5lkzsf2ne3udtjmk7zjp3r\n"
     ]
    }
   ],
   "source": [
    "print(trader.address)"
   ]
  },
  {
   "attachments": {},
   "cell_type": "markdown",
   "metadata": {},
   "source": [
    "This trader has no fund and the address is not registered with the chain. We can still use it to query stuff"
   ]
  },
  {
   "cell_type": "code",
   "execution_count": 17,
   "metadata": {},
   "outputs": [
    {
     "name": "stdout",
     "output_type": "stream",
     "text": [
      "[\n",
      "    {\n",
      "        \"id\": \"1\",\n",
      "        \"address\": \"nibi1w00c7pqkr5z7ptewg5z87j2ncvxd88w43ug679\",\n",
      "        \"poolParams\": {\n",
      "            \"swapFee\": 0.01,\n",
      "            \"exitFee\": 0.01,\n",
      "            \"A\": \"0\"\n",
      "        },\n",
      "        \"poolAssets\": [\n",
      "            {\n",
      "                \"token\": {\n",
      "                    \"denom\": \"unibi\",\n",
      "                    \"amount\": \"16434695127\"\n",
      "                },\n",
      "                \"weight\": \"1073741824\"\n",
      "            },\n",
      "            {\n",
      "                \"token\": {\n",
      "                    \"denom\": \"unusd\",\n",
      "                    \"amount\": \"2025755901517\"\n",
      "                },\n",
      "                \"weight\": \"1073741824\"\n",
      "            }\n",
      "        ],\n",
      "        \"totalWeight\": \"2147483648\",\n",
      "        \"totalShares\": {\n",
      "            \"denom\": \"nibiru/pool/1\",\n",
      "            \"amount\": \"16382308445118085345149\"\n",
      "        }\n",
      "    },\n",
      "    {\n",
      "        \"id\": \"2\",\n",
      "        \"address\": \"nibi1vm70ju9n2laspspsh6fs2hu50z3qzf4m2emr0p\",\n",
      "        \"poolParams\": {\n",
      "            \"swapFee\": 0.01,\n",
      "            \"exitFee\": 0.01,\n",
      "            \"A\": \"10\",\n",
      "            \"poolType\": \"STABLESWAP\"\n",
      "        },\n",
      "        \"poolAssets\": [\n",
      "            {\n",
      "                \"token\": {\n",
      "                    \"denom\": \"unusd\",\n",
      "                    \"amount\": \"336875701340\"\n",
      "                },\n",
      "                \"weight\": \"1073741824\"\n",
      "            },\n",
      "            {\n",
      "                \"token\": {\n",
      "                    \"denom\": \"uusdt\",\n",
      "                    \"amount\": \"9586964043151\"\n",
      "                },\n",
      "                \"weight\": \"1073741824\"\n",
      "            }\n",
      "        ],\n",
      "        \"totalWeight\": \"2147483648\",\n",
      "        \"totalShares\": {\n",
      "            \"denom\": \"nibiru/pool/2\",\n",
      "            \"amount\": \"379679519187813492101905\"\n",
      "        }\n",
      "    }\n",
      "]\n"
     ]
    }
   ],
   "source": [
    "print(json.dumps(trader.query.spot.pools(), indent=4))"
   ]
  },
  {
   "cell_type": "code",
   "execution_count": 20,
   "metadata": {},
   "outputs": [
    {
     "name": "stdout",
     "output_type": "stream",
     "text": [
      "{\n",
      "    \"liquidity\": [\n",
      "        {\n",
      "            \"denom\": \"unibi\",\n",
      "            \"amount\": \"16434695127\"\n",
      "        },\n",
      "        {\n",
      "            \"denom\": \"unusd\",\n",
      "            \"amount\": \"2025755901517\"\n",
      "        }\n",
      "    ]\n",
      "}\n"
     ]
    }
   ],
   "source": [
    "print(json.dumps(trader.query.spot.total_pool_liquidity(1), indent=4))"
   ]
  },
  {
   "cell_type": "code",
   "execution_count": 19,
   "metadata": {},
   "outputs": [
    {
     "name": "stdout",
     "output_type": "stream",
     "text": [
      "{\n",
      "    \"liquidity\": [\n",
      "        {\n",
      "            \"denom\": \"unibi\",\n",
      "            \"amount\": \"16434695127\"\n",
      "        },\n",
      "        {\n",
      "            \"denom\": \"unusd\",\n",
      "            \"amount\": \"2362631602857\"\n",
      "        },\n",
      "        {\n",
      "            \"denom\": \"uusdt\",\n",
      "            \"amount\": \"9586964043151\"\n",
      "        }\n",
      "    ]\n",
      "}\n"
     ]
    }
   ],
   "source": [
    "print(json.dumps(trader.query.spot.total_liquidity(), indent=4))"
   ]
  },
  {
   "attachments": {},
   "cell_type": "markdown",
   "metadata": {},
   "source": [
    "You can find the documentation on query you can execute on the official documentation website: https://nibiru-py.readthedocs.io/en/latest/nibiru.query_clients.html"
   ]
  },
  {
   "attachments": {},
   "cell_type": "markdown",
   "metadata": {},
   "source": []
  }
 ],
 "metadata": {
  "kernelspec": {
   "display_name": "nibi",
   "language": "python",
   "name": "python3"
  },
  "language_info": {
   "codemirror_mode": {
    "name": "ipython",
    "version": 3
   },
   "file_extension": ".py",
   "mimetype": "text/x-python",
   "name": "python",
   "nbconvert_exporter": "python",
   "pygments_lexer": "ipython3",
   "version": "3.8.16"
  },
  "orig_nbformat": 4,
  "vscode": {
   "interpreter": {
    "hash": "23c82724f6800107d27a1bc097df076b7f523b299f39e774e7f2b8b0c7154a18"
   }
  }
 },
 "nbformat": 4,
 "nbformat_minor": 2
}
