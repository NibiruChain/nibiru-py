{
 "cells": [
  {
   "cell_type": "code",
   "execution_count": 12,
   "metadata": {},
   "outputs": [],
   "source": [
    "import nibiru\n",
    "from nibiru import Network, ChainClient\n",
    "import json"
   ]
  },
  {
   "cell_type": "code",
   "execution_count": 13,
   "metadata": {},
   "outputs": [
    {
     "data": {
      "text/plain": "'0.21.9'"
     },
     "execution_count": 13,
     "metadata": {},
     "output_type": "execute_result"
    }
   ],
   "source": [
    "nibiru.__version__"
   ]
  },
  {
   "attachments": {},
   "cell_type": "markdown",
   "metadata": {},
   "source": [
    "# Connect to a chain and run queries"
   ]
  },
  {
   "attachments": {},
   "cell_type": "markdown",
   "metadata": {},
   "source": [
    "You can connect to any chain (localnet, testnet or mainnet) using this python SDK. Let's connect to testnet-2 (aka itn-2)."
   ]
  },
  {
   "cell_type": "code",
   "execution_count": 14,
   "metadata": {},
   "outputs": [],
   "source": [
    "client = ChainClient(Network.testnet(2))"
   ]
  },
  {
   "cell_type": "markdown",
   "source": [
    "Run PERP module queries:"
   ],
   "metadata": {
    "collapsed": false
   }
  },
  {
   "cell_type": "code",
   "execution_count": 15,
   "outputs": [
    {
     "name": "stdout",
     "output_type": "stream",
     "text": [
      "{\n",
      "    \"ammMarkets\": [\n",
      "        {\n",
      "            \"market\": {\n",
      "                \"pair\": \"ubtc:unusd\",\n",
      "                \"enabled\": true,\n",
      "                \"maintenanceMarginRatio\": 0.05,\n",
      "                \"maxLeverage\": 10.0,\n",
      "                \"latestCumulativePremiumFraction\": -2025.8005470607002,\n",
      "                \"exchangeFeeRatio\": 0.001,\n",
      "                \"ecosystemFundFeeRatio\": 0.001,\n",
      "                \"liquidationFeeRatio\": 0.05,\n",
      "                \"partialLiquidationRatio\": 0.5,\n",
      "                \"fundingRateEpochId\": \"30 min\",\n",
      "                \"twapLookbackWindow\": \"1800s\",\n",
      "                \"prepaidBadDebt\": {\n",
      "                    \"denom\": \"unusd\",\n",
      "                    \"amount\": \"0\"\n",
      "                },\n",
      "                \"maxFundingRate\": \"10000000000000000\"\n",
      "            },\n",
      "            \"amm\": {\n",
      "                \"pair\": \"ubtc:unusd\",\n",
      "                \"baseReserve\": 39651725762543.484,\n",
      "                \"quoteReserve\": 40351333245409.98,\n",
      "                \"sqrtDepth\": 40000000000000.0,\n",
      "                \"priceMultiplier\": 25662.0,\n",
      "                \"totalLong\": 17225707431054.695,\n",
      "                \"totalShort\": 16877433193598.176\n",
      "            }\n",
      "        },\n",
      "        {\n",
      "            \"market\": {\n",
      "                \"pair\": \"ueth:unusd\",\n",
      "                \"enabled\": true,\n",
      "                \"maintenanceMarginRatio\": 0.05,\n",
      "                \"maxLeverage\": 15.0,\n",
      "                \"latestCumulativePremiumFraction\": 5.803715725724983,\n",
      "                \"exchangeFeeRatio\": 0.001,\n",
      "                \"ecosystemFundFeeRatio\": 0.001,\n",
      "                \"liquidationFeeRatio\": 0.05,\n",
      "                \"partialLiquidationRatio\": 0.5,\n",
      "                \"fundingRateEpochId\": \"30 min\",\n",
      "                \"twapLookbackWindow\": \"1800s\",\n",
      "                \"prepaidBadDebt\": {\n",
      "                    \"denom\": \"unusd\",\n",
      "                    \"amount\": \"1005838\"\n",
      "                },\n",
      "                \"maxFundingRate\": \"10000000000000000\"\n",
      "            },\n",
      "            \"amm\": {\n",
      "                \"pair\": \"ueth:unusd\",\n",
      "                \"baseReserve\": 40668533522817.69,\n",
      "                \"quoteReserve\": 39342456228530.99,\n",
      "                \"sqrtDepth\": 40000000000000.0,\n",
      "                \"priceMultiplier\": 1628.58,\n",
      "                \"totalLong\": 15576416547771.994,\n",
      "                \"totalShort\": 16244950070589.68\n",
      "            }\n",
      "        }\n",
      "    ]\n",
      "}\n"
     ]
    }
   ],
   "source": [
    "print(json.dumps(client.query.perp.markets(), indent=4))"
   ],
   "metadata": {
    "collapsed": false
   }
  },
  {
   "cell_type": "code",
   "execution_count": 16,
   "outputs": [
    {
     "name": "stdout",
     "output_type": "stream",
     "text": [
      "{\n",
      "    \"ueth:unusd\": {\n",
      "        \"position\": {\n",
      "            \"trader_address\": \"nibi1jle8khj3aennq24zx6g93aam9rt0fqhgyp4h52\",\n",
      "            \"pair\": \"ueth:unusd\",\n",
      "            \"size\": 75525.89948709492,\n",
      "            \"margin\": 123000000.0,\n",
      "            \"open_notional\": 123000000.0,\n",
      "            \"latest_cumulative_premium_fraction\": 29.18318944237999,\n",
      "            \"last_updated_block_number\": 322701\n",
      "        },\n",
      "        \"position_notional\": 118989313.93739063,\n",
      "        \"unrealized_pnl\": -4010686.0626093773,\n",
      "        \"margin_ratio\": 1.0148396164626545\n",
      "    }\n",
      "}\n"
     ]
    }
   ],
   "source": [
    "print(json.dumps(client.query.perp.all_positions(trader=\"nibi1jle8khj3aennq24zx6g93aam9rt0fqhgyp4h52\"), indent=4))"
   ],
   "metadata": {
    "collapsed": false
   }
  },
  {
   "cell_type": "markdown",
   "source": [
    "Run SPOT module queries:"
   ],
   "metadata": {
    "collapsed": false
   }
  },
  {
   "cell_type": "code",
   "execution_count": 17,
   "metadata": {},
   "outputs": [
    {
     "name": "stdout",
     "output_type": "stream",
     "text": [
      "[\n",
      "    {\n",
      "        \"id\": \"1\",\n",
      "        \"address\": \"nibi1w00c7pqkr5z7ptewg5z87j2ncvxd88w43ug679\",\n",
      "        \"poolParams\": {\n",
      "            \"swapFee\": \"10000000000000000\",\n",
      "            \"exitFee\": \"10000000000000000\",\n",
      "            \"A\": \"0\"\n",
      "        },\n",
      "        \"poolAssets\": [\n",
      "            {\n",
      "                \"token\": {\n",
      "                    \"denom\": \"unibi\",\n",
      "                    \"amount\": \"671035023\"\n",
      "                },\n",
      "                \"weight\": \"1073741824\"\n",
      "            },\n",
      "            {\n",
      "                \"token\": {\n",
      "                    \"denom\": \"unusd\",\n",
      "                    \"amount\": \"6778727934\"\n",
      "                },\n",
      "                \"weight\": \"1073741824\"\n",
      "            }\n",
      "        ],\n",
      "        \"totalWeight\": \"2147483648\",\n",
      "        \"totalShares\": {\n",
      "            \"denom\": \"nibiru/pool/1\",\n",
      "            \"amount\": \"196537289863623618511\"\n",
      "        }\n",
      "    },\n",
      "    {\n",
      "        \"id\": \"2\",\n",
      "        \"address\": \"nibi1vm70ju9n2laspspsh6fs2hu50z3qzf4m2emr0p\",\n",
      "        \"poolParams\": {\n",
      "            \"swapFee\": \"10000000000000000\",\n",
      "            \"exitFee\": \"10000000000000000\",\n",
      "            \"A\": \"10\",\n",
      "            \"poolType\": \"STABLESWAP\"\n",
      "        },\n",
      "        \"poolAssets\": [\n",
      "            {\n",
      "                \"token\": {\n",
      "                    \"denom\": \"unusd\",\n",
      "                    \"amount\": \"12205111472\"\n",
      "                },\n",
      "                \"weight\": \"1073741824\"\n",
      "            },\n",
      "            {\n",
      "                \"token\": {\n",
      "                    \"denom\": \"uusdt\",\n",
      "                    \"amount\": \"402339760703\"\n",
      "                },\n",
      "                \"weight\": \"1073741824\"\n",
      "            }\n",
      "        ],\n",
      "        \"totalWeight\": \"2147483648\",\n",
      "        \"totalShares\": {\n",
      "            \"denom\": \"nibiru/pool/2\",\n",
      "            \"amount\": \"17287165063133703219071\"\n",
      "        }\n",
      "    }\n",
      "]\n"
     ]
    }
   ],
   "source": [
    "print(json.dumps(client.query.spot.pools(), indent=4))"
   ]
  },
  {
   "cell_type": "code",
   "execution_count": 18,
   "metadata": {},
   "outputs": [
    {
     "name": "stdout",
     "output_type": "stream",
     "text": [
      "{\n",
      "    \"liquidity\": [\n",
      "        {\n",
      "            \"denom\": \"unibi\",\n",
      "            \"amount\": \"671035023\"\n",
      "        },\n",
      "        {\n",
      "            \"denom\": \"unusd\",\n",
      "            \"amount\": \"6778727934\"\n",
      "        }\n",
      "    ]\n",
      "}\n"
     ]
    }
   ],
   "source": [
    "print(json.dumps(client.query.spot.total_pool_liquidity(1), indent=4))"
   ]
  },
  {
   "cell_type": "code",
   "execution_count": 19,
   "metadata": {},
   "outputs": [
    {
     "name": "stdout",
     "output_type": "stream",
     "text": [
      "{\n",
      "    \"liquidity\": [\n",
      "        {\n",
      "            \"denom\": \"unibi\",\n",
      "            \"amount\": \"671035023\"\n",
      "        },\n",
      "        {\n",
      "            \"denom\": \"unusd\",\n",
      "            \"amount\": \"18983839406\"\n",
      "        },\n",
      "        {\n",
      "            \"denom\": \"uusdt\",\n",
      "            \"amount\": \"402339760703\"\n",
      "        }\n",
      "    ]\n",
      "}\n"
     ]
    }
   ],
   "source": [
    "print(json.dumps(client.query.spot.total_liquidity(), indent=4))"
   ]
  },
  {
   "attachments": {},
   "cell_type": "markdown",
   "metadata": {},
   "source": [
    "You can find the documentation on query you can execute on the official documentation website: https://nibiru-py.readthedocs.io/en/latest/nibiru.query_clients.html"
   ]
  },
  {
   "attachments": {},
   "cell_type": "markdown",
   "metadata": {},
   "source": []
  }
 ],
 "metadata": {
  "kernelspec": {
   "display_name": "nibi",
   "language": "python",
   "name": "python3"
  },
  "language_info": {
   "codemirror_mode": {
    "name": "ipython",
    "version": 3
   },
   "file_extension": ".py",
   "mimetype": "text/x-python",
   "name": "python",
   "nbconvert_exporter": "python",
   "pygments_lexer": "ipython3",
   "version": "3.8.16"
  },
  "orig_nbformat": 4,
  "vscode": {
   "interpreter": {
    "hash": "23c82724f6800107d27a1bc097df076b7f523b299f39e774e7f2b8b0c7154a18"
   }
  }
 },
 "nbformat": 4,
 "nbformat_minor": 2
}
