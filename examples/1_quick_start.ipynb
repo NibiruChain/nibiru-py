{
 "cells": [
  {
   "attachments": {},
   "cell_type": "markdown",
   "metadata": {},
   "source": [
    "# Connect to Nibiru Chain and Run Queries"
   ]
  },
  {
   "cell_type": "markdown",
   "source": [
    "### 1. Install Nibiru package"
   ],
   "metadata": {
    "collapsed": false
   }
  },
  {
   "cell_type": "code",
   "execution_count": null,
   "outputs": [],
   "source": [
    "!pip install nibiru"
   ],
   "metadata": {
    "collapsed": false
   }
  },
  {
   "cell_type": "markdown",
   "source": [
    "### 2. Create chain client\n",
    "Using testnet-3 (aka itn-3) endpoint run queries."
   ],
   "metadata": {
    "collapsed": false
   }
  },
  {
   "cell_type": "code",
   "execution_count": null,
   "metadata": {},
   "outputs": [],
   "source": [
    "from nibiru import Network, ChainClient\n",
    "import json\n",
    "\n",
    "# Shortcut to print responses\n",
    "def print_json(obj):\n",
    "    print(json.dumps(obj, indent=2))\n",
    "\n",
    "client = ChainClient(Network.testnet(3))"
   ]
  },
  {
   "cell_type": "markdown",
   "source": [
    "### 3. Run PERP module queries"
   ],
   "metadata": {
    "collapsed": false
   }
  },
  {
   "cell_type": "code",
   "execution_count": null,
   "outputs": [],
   "source": [
    "perp_markets = client.query.perp.markets()\n",
    "print_json(perp_markets)"
   ],
   "metadata": {
    "collapsed": false
   }
  },
  {
   "cell_type": "code",
   "execution_count": null,
   "outputs": [],
   "source": [
    "# Query perp positions of the trader\n",
    "trader = \"nibi1jle8khj3aennq24zx6g93aam9rt0fqhgyp4h52\"\n",
    "positions = client.query.perp.all_positions(trader=trader)\n",
    "print_json(positions)"
   ],
   "metadata": {
    "collapsed": false
   }
  },
  {
   "cell_type": "markdown",
   "source": [
    "### 4. Run SPOT module queries"
   ],
   "metadata": {
    "collapsed": false
   }
  },
  {
   "cell_type": "code",
   "execution_count": null,
   "metadata": {},
   "outputs": [],
   "source": [
    "spot_pools = client.query.spot.pools()\n",
    "print_json(spot_pools)"
   ]
  },
  {
   "cell_type": "code",
   "execution_count": null,
   "metadata": {},
   "outputs": [],
   "source": [
    "pool_liquidity = client.query.spot.total_pool_liquidity(1)\n",
    "print(pool_liquidity)"
   ]
  }
 ],
 "metadata": {
  "kernelspec": {
   "display_name": "nibi",
   "language": "python",
   "name": "python3"
  },
  "language_info": {
   "codemirror_mode": {
    "name": "ipython",
    "version": 3
   },
   "file_extension": ".py",
   "mimetype": "text/x-python",
   "name": "python",
   "nbconvert_exporter": "python",
   "pygments_lexer": "ipython3",
   "version": "3.8.16"
  },
  "orig_nbformat": 4,
  "vscode": {
   "interpreter": {
    "hash": "23c82724f6800107d27a1bc097df076b7f523b299f39e774e7f2b8b0c7154a18"
   }
  }
 },
 "nbformat": 4,
 "nbformat_minor": 2
}
